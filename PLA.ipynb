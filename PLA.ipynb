{
  "nbformat": 4,
  "nbformat_minor": 0,
  "metadata": {
    "colab": {
      "provenance": []
    },
    "kernelspec": {
      "name": "python3",
      "display_name": "Python 3"
    },
    "language_info": {
      "name": "python"
    }
  },
  "cells": [
    {
      "cell_type": "code",
      "execution_count": null,
      "metadata": {
        "id": "4De1G8G1MkXo"
      },
      "outputs": [],
      "source": [
        "import numpy as np\n",
        "import scipy.stats as ss\n",
        "from matplotlib import pyplot as plt\n",
        "from matplotlib import animation\n",
        "from IPython.display import Image\n",
        "\n",
        "%precision 10\n",
        "%matplotlib inline"
      ]
    },
    {
      "cell_type": "markdown",
      "source": [
        "# **Perceptron Learning Algorithm**"
      ],
      "metadata": {
        "id": "YAJD9EoodZYP"
      }
    },
    {
      "cell_type": "markdown",
      "source": [
        "Aiden Clark 4340 - 9/15/2022"
      ],
      "metadata": {
        "id": "_jmyq6EVjeFh"
      }
    },
    {
      "cell_type": "markdown",
      "source": [
        "**Notes:**\n",
        "\n",
        "1.   Datapoints were generated based on the weight function. \n",
        "2.   The points are linearly seperable. \n",
        "3.   The new testing weights are linearly seperable. \n",
        "4.   Weights are based on the datapoints distance from the activation function. \n",
        "5.   The activation function is simply a -x function.\n",
        "6.   Number of runs was 10. \n",
        "7.   Max number of iterations was 1000.\n",
        "8.   Misclassification error: 0% (datapoints were seperated by the weight function)\n",
        "\n"
      ],
      "metadata": {
        "id": "gtxV7jNpQxw1"
      }
    },
    {
      "cell_type": "markdown",
      "source": [
        "# Generating Data"
      ],
      "metadata": {
        "id": "XjXFajsrdeIM"
      }
    },
    {
      "cell_type": "markdown",
      "source": [
        "I will generate some data along the data points $ X = (x_1, ... , x_d) $ with $d$ dimensions $[-1, 1] $.  The dataset will have $N$ as the number of datapoints. The target function $ f(x) $will be values from positive and negetive. "
      ],
      "metadata": {
        "id": "NkKSylmU17fR"
      }
    },
    {
      "cell_type": "markdown",
      "source": [
        "**The Formula:**\n",
        "$X$ and $W$ are the the inputs and weights respectively that are the two arrows in a d+1 dimensional space.  "
      ],
      "metadata": {
        "id": "AqrZivmx3MD5"
      }
    },
    {
      "cell_type": "markdown",
      "source": [
        "\n",
        "$\\displaystyle\\sum_{i=0} ^{d+1} W . X$<div class=\"open_grepper_editor\" title=\"Edit & Save To Grepper\"></div>"
      ],
      "metadata": {
        "id": "oYb9maXq5Vr5"
      }
    },
    {
      "cell_type": "markdown",
      "source": [
        "![general-diagram-of-perceptron-for-supervised-learning_4.avif](data:image/avif;base64,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)"
      ],
      "metadata": {
        "id": "C45p7J-HkE08"
      }
    },
    {
      "cell_type": "markdown",
      "source": [
        "# **Generate the Datasets:**\n",
        "\n",
        "> The numbers will be random from $[-1, 1] $\n",
        "\n"
      ],
      "metadata": {
        "id": "DDSW1jkh6QC1"
      }
    },
    {
      "cell_type": "code",
      "source": [
        "d = 2 # dimensions\n",
        "N = 50 # datapoints in the set of data\n",
        "numberOfSets = 1 # number of sets"
      ],
      "metadata": {
        "id": "jgiCWO0CjPwP"
      },
      "execution_count": null,
      "outputs": []
    },
    {
      "cell_type": "code",
      "source": [
        "numberOfPoints = N*numberOfSets\n",
        "allDatasets = np.ones(shape=(numberOfPoints, 1+d)) # return array with ones\n",
        "allDatasets[:, 1:] = np.random.uniform(low=-1, high=+1, size=(numberOfPoints, d))"
      ],
      "metadata": {
        "id": "wWqU3T1WeOm1"
      },
      "execution_count": null,
      "outputs": []
    },
    {
      "cell_type": "markdown",
      "source": [
        "# **Activation Function**\n",
        "\n",
        "> The activation funtion will be based off of the weight vector. This will be the hyperplane $f(x_1,x_2) = x_1 + x_2$\n",
        "\n"
      ],
      "metadata": {
        "id": "hGHBlCsR7XtH"
      }
    },
    {
      "cell_type": "code",
      "source": [
        "def weightTarget(d):\n",
        "    w = np.ones(shape=1+d)\n",
        "    w[0] = 0\n",
        "    return w"
      ],
      "metadata": {
        "id": "mdwYB7u4lLOM"
      },
      "execution_count": null,
      "outputs": []
    },
    {
      "cell_type": "code",
      "source": [
        "# target with array aligns with dimension\n",
        "weightFunction = weightTarget(d=2)\n",
        "weightFunction"
      ],
      "metadata": {
        "colab": {
          "base_uri": "https://localhost:8080/"
        },
        "id": "7TdlEf4PyArt",
        "outputId": "22c61682-f5fc-4b12-9c39-6b3e0ca0f5ad"
      },
      "execution_count": null,
      "outputs": [
        {
          "output_type": "execute_result",
          "data": {
            "text/plain": [
              "array([0., 1., 1.])"
            ]
          },
          "metadata": {},
          "execution_count": 265
        }
      ]
    },
    {
      "cell_type": "code",
      "source": [
        "def dataGenerator(N, d, nmberOfSets):\n",
        "\n",
        "    weightFunction = weightTarget(d)\n",
        "    allLabels = np.sign(allDatasets@weightFunction.T)\n",
        "\n",
        "    # give labels to datasets using the target function\n",
        "    return {'Datasets':allDatasets,\n",
        "            \n",
        "            'Labels':allLabels, \n",
        "\n",
        "            'Datapoints per set': N,\n",
        "\n",
        "            'Dimension': d,\n",
        "\n",
        "            'Sets': nmberOfSets,\n",
        "\n",
        "            'Data Generator': weightFunction} \n",
        "\n",
        "# select the set as the training set\n",
        "def trainingGenerator(data, index=0):\n",
        "    allDatasets, allLabels = data['Datasets'], data['Labels']\n",
        "    N, nmberOfSets = data['Datapoints per set'], data['Sets']\n",
        "    assert index < nmberOfSets, 'Not enough sets.'\n",
        "    offset = N*index\n",
        "    return allDatasets[offset:offset+N,:], allLabels[offset:offset+N]  "
      ],
      "metadata": {
        "id": "gnFc6OrslatE"
      },
      "execution_count": null,
      "outputs": []
    },
    {
      "cell_type": "markdown",
      "source": [
        "# **Create the Hyperplane**\n",
        "\n",
        "> Input is coordinate i in the $X$ dataset\n",
        "\n"
      ],
      "metadata": {
        "id": "DgD5PAZz9fZ1"
      }
    },
    {
      "cell_type": "code",
      "source": [
        "DATA = dataGenerator(N=25, d=2, nmberOfSets=10)"
      ],
      "metadata": {
        "id": "-si0MDr_lzXF"
      },
      "execution_count": null,
      "outputs": []
    },
    {
      "cell_type": "code",
      "source": [
        "X, Y = trainingGenerator(data=DATA, index=1)"
      ],
      "metadata": {
        "id": "4ABPHydLl1ph"
      },
      "execution_count": null,
      "outputs": []
    },
    {
      "cell_type": "code",
      "source": [
        "def findCoordinates(i, X):\n",
        "    _, dim = X.shape\n",
        "    assert i < dim\n",
        "    return X[:, i]"
      ],
      "metadata": {
        "id": "cOkHDm3amS0l"
      },
      "execution_count": null,
      "outputs": []
    },
    {
      "cell_type": "code",
      "source": [
        "def scatterData(X, Y, dimension1=1, dimension2=2):\n",
        "    positives, negatives = X[Y==+1], X[Y==-1]\n",
        "    \n",
        "    pos_x, pos_y = findCoordinates(X=positives, i=dimension1), findCoordinates(X=positives, i=dimension2)\n",
        "    neg_x, neg_y = findCoordinates(X=negatives, i=dimension1), findCoordinates(X=negatives, i=dimension2)\n",
        "\n",
        "    plt.scatter(pos_x, pos_y, color='green')\n",
        "    plt.scatter(neg_x, neg_y, color='red')"
      ],
      "metadata": {
        "id": "N_JLbcOZv2XI"
      },
      "execution_count": null,
      "outputs": []
    },
    {
      "cell_type": "code",
      "source": [
        "def createHyperplane(w, dimension1=1, dimension2=2): # h means hyperpla\n",
        "    w_0, w_1, w_2 = w[0], w[dimension1], w[dimension2]\n",
        "    assert w_2 != 0\n",
        "    return lambda x : (-1/w_2)*(w_1*x + w_0)\n",
        "\n",
        "\n",
        "def drawHyperplane(w, dimension1=1, dimension2=2, color='blue'):\n",
        "    #dim = len(w)\n",
        "    #assert dimension1 < dim and dimension2 < dim\n",
        "    h = createHyperplane(w=w, dimension1=dimension1, dimension2=dimension2)\n",
        "    x = np.linspace(start=-1.0, stop=1.0, endpoint=True, num=50)\n",
        "    plt.plot(x, h(x), color)"
      ],
      "metadata": {
        "id": "-fcy_4W9wDbb"
      },
      "execution_count": null,
      "outputs": []
    },
    {
      "cell_type": "code",
      "source": [
        "def graphTrainingSet(X, Y):\n",
        "    global weightFunction\n",
        "    scatterData(X, Y, dimension1=1, dimension2=2)\n",
        "    drawHyperplane(w=weightFunction)"
      ],
      "metadata": {
        "id": "WNV4874JwFuT"
      },
      "execution_count": null,
      "outputs": []
    },
    {
      "cell_type": "code",
      "source": [
        "graphTrainingSet(X, Y)"
      ],
      "metadata": {
        "colab": {
          "base_uri": "https://localhost:8080/",
          "height": 265
        },
        "id": "ieGfuXwrwGqo",
        "outputId": "bf9e864d-5b1e-492f-9445-6e6e71c11926"
      },
      "execution_count": null,
      "outputs": [
        {
          "output_type": "display_data",
          "data": {
            "text/plain": [
              "<Figure size 432x288 with 1 Axes>"
            ],
            "image/png": "[encoded data removed]"
          },
          "metadata": {
            "needs_background": "light"
          }
        }
      ]
    },
    {
      "cell_type": "markdown",
      "source": [
        "# **Enter in Learning Rate**\n",
        "\n",
        "> The goal is to initiate the weight vector $w_0$ and repeat until until no more datapoints are missclassifed $X_n$ from the selected dataset. Then update the weight vector $W_n+1 = W_n+1 + y_nX_n$ and return the final weight vector as $W$. \n",
        "\n"
      ],
      "metadata": {
        "id": "cBLabf6kaDc-"
      }
    },
    {
      "cell_type": "code",
      "source": [
        "def emptyPercep(array):\n",
        "    return array.size == 0\n",
        "    \n",
        "def randomDatapoint(X, Y):\n",
        "    nb_points, _ = X.shape\n",
        "    index = np.random.randint(nb_points)\n",
        "    return X[index], Y[index]"
      ],
      "metadata": {
        "id": "S3SHjQkOa7xJ"
      },
      "execution_count": null,
      "outputs": []
    },
    {
      "cell_type": "markdown",
      "source": [
        "\n",
        "\n",
        "> Input the weight vector $W$ and the training set with the datapoitsn $X$ and lables $Y$. The output is the sample error E_in and matched_p are the matching results.  \n",
        "\n"
      ],
      "metadata": {
        "id": "H_F-QmYwkVse"
      }
    },
    {
      "cell_type": "code",
      "source": [
        "def match(w, X, Y):\n",
        "    predicted_Y = np.sign(X@w.T)\n",
        "    matched_p = (predicted_Y != Y)\n",
        "    E_in = np.sum(matched_p)\n",
        "    return matched_p, E_in"
      ],
      "metadata": {
        "id": "ic16M8xAkU8s"
      },
      "execution_count": null,
      "outputs": []
    },
    {
      "cell_type": "code",
      "source": [
        "def randomWeightVectors(X):\n",
        "    _, dim = X.shape\n",
        "    return np.random.uniform(low=-1, high=+1, size=dim)"
      ],
      "metadata": {
        "id": "jR-b3-OZk49S"
      },
      "execution_count": null,
      "outputs": []
    },
    {
      "cell_type": "code",
      "source": [
        "def PLA(X, Y, w_init, eta=1, max_iter=1000):\n",
        "    N, dim = X.shape\n",
        "\n",
        "    # array to store weights\n",
        "    weights = np.zeros(shape=(max_iter, dim))\n",
        "    E_in_evol = np.zeros(max_iter)\n",
        "    \n",
        "    w = np.copy(w_init)\n",
        "\n",
        "    for n in np.arange(max_iter):\n",
        "        matched_p, E_in = match(w, X, Y)\n",
        "        misclassified_X, correct_Y = X[matched_p], Y[matched_p]\n",
        "        weights[n, :], E_in_evol[n] = w, E_in\n",
        "\n",
        "        if emptyPercep(misclassified_X):\n",
        "            return {'Weights':weights, 'Counter':n, 'In_Sample Error':E_in_evol}\n",
        "        else:\n",
        "            misclassified_x, correct_y = randomDatapoint(misclassified_X, correct_Y)\n",
        "            w = w + eta*correct_y*misclassified_x\n",
        "    else:\n",
        "        return {'Weights':weights, 'Counter':n, 'In_Sample Error':E_in_evol}"
      ],
      "metadata": {
        "id": "Zf8tgfk4lJAh"
      },
      "execution_count": null,
      "outputs": []
    },
    {
      "cell_type": "code",
      "source": [
        "PLA_Result = PLA(X, Y, w_init=randomWeightVectors(X), **{'max_iter':1000, 'eta':0.1})"
      ],
      "metadata": {
        "id": "w2T38tnylU-y"
      },
      "execution_count": null,
      "outputs": []
    },
    {
      "cell_type": "code",
      "source": [
        "print(PLA_Result)"
      ],
      "metadata": {
        "colab": {
          "base_uri": "https://localhost:8080/"
        },
        "id": "F_GVMnipWvWU",
        "outputId": "af6e3341-7312-451e-e945-36d93503d075"
      },
      "execution_count": null,
      "outputs": [
        {
          "output_type": "stream",
          "name": "stdout",
          "text": [
            "{'Weights': array([[ 0.0060509401,  0.8105586572, -0.9243990482],\n",
            "       [-0.0939490599,  0.852181456 , -0.8472354887],\n",
            "       [ 0.0060509401,  0.8507193033, -0.7965707341],\n",
            "       ...,\n",
            "       [ 0.          ,  0.          ,  0.          ],\n",
            "       [ 0.          ,  0.          ,  0.          ],\n",
            "       [ 0.          ,  0.          ,  0.          ]]), 'Counter': 26, 'In_Sample Error': array([11., 10., 10., 10.,  9., 10.,  8.,  9.,  8.,  7.,  8.,  8.,  8.,\n",
            "        8.,  8.,  6.,  6.,  5.,  6.,  4.,  5.,  2.,  3.,  2.,  1.,  1.,\n",
            "        0.,  0.,  0.,  0.,  0.,  0.,  0.,  0.,  0.,  0.,  0.,  0.,  0.,\n",
            "        0.,  0.,  0.,  0.,  0.,  0.,  0.,  0.,  0.,  0.,  0.,  0.,  0.,\n",
            "        0.,  0.,  0.,  0.,  0.,  0.,  0.,  0.,  0.,  0.,  0.,  0.,  0.,\n",
            "        0.,  0.,  0.,  0.,  0.,  0.,  0.,  0.,  0.,  0.,  0.,  0.,  0.,\n",
            "        0.,  0.,  0.,  0.,  0.,  0.,  0.,  0.,  0.,  0.,  0.,  0.,  0.,\n",
            "        0.,  0.,  0.,  0.,  0.,  0.,  0.,  0.,  0.,  0.,  0.,  0.,  0.,\n",
            "        0.,  0.,  0.,  0.,  0.,  0.,  0.,  0.,  0.,  0.,  0.,  0.,  0.,\n",
            "        0.,  0.,  0.,  0.,  0.,  0.,  0.,  0.,  0.,  0.,  0.,  0.,  0.,\n",
            "        0.,  0.,  0.,  0.,  0.,  0.,  0.,  0.,  0.,  0.,  0.,  0.,  0.,\n",
            "        0.,  0.,  0.,  0.,  0.,  0.,  0.,  0.,  0.,  0.,  0.,  0.,  0.,\n",
            "        0.,  0.,  0.,  0.,  0.,  0.,  0.,  0.,  0.,  0.,  0.,  0.,  0.,\n",
            "        0.,  0.,  0.,  0.,  0.,  0.,  0.,  0.,  0.,  0.,  0.,  0.,  0.,\n",
            "        0.,  0.,  0.,  0.,  0.,  0.,  0.,  0.,  0.,  0.,  0.,  0.,  0.,\n",
            "        0.,  0.,  0.,  0.,  0.,  0.,  0.,  0.,  0.,  0.,  0.,  0.,  0.,\n",
            "        0.,  0.,  0.,  0.,  0.,  0.,  0.,  0.,  0.,  0.,  0.,  0.,  0.,\n",
            "        0.,  0.,  0.,  0.,  0.,  0.,  0.,  0.,  0.,  0.,  0.,  0.,  0.,\n",
            "        0.,  0.,  0.,  0.,  0.,  0.,  0.,  0.,  0.,  0.,  0.,  0.,  0.,\n",
            "        0.,  0.,  0.,  0.,  0.,  0.,  0.,  0.,  0.,  0.,  0.,  0.,  0.,\n",
            "        0.,  0.,  0.,  0.,  0.,  0.,  0.,  0.,  0.,  0.,  0.,  0.,  0.,\n",
            "        0.,  0.,  0.,  0.,  0.,  0.,  0.,  0.,  0.,  0.,  0.,  0.,  0.,\n",
            "        0.,  0.,  0.,  0.,  0.,  0.,  0.,  0.,  0.,  0.,  0.,  0.,  0.,\n",
            "        0.,  0.,  0.,  0.,  0.,  0.,  0.,  0.,  0.,  0.,  0.,  0.,  0.,\n",
            "        0.,  0.,  0.,  0.,  0.,  0.,  0.,  0.,  0.,  0.,  0.,  0.,  0.,\n",
            "        0.,  0.,  0.,  0.,  0.,  0.,  0.,  0.,  0.,  0.,  0.,  0.,  0.,\n",
            "        0.,  0.,  0.,  0.,  0.,  0.,  0.,  0.,  0.,  0.,  0.,  0.,  0.,\n",
            "        0.,  0.,  0.,  0.,  0.,  0.,  0.,  0.,  0.,  0.,  0.,  0.,  0.,\n",
            "        0.,  0.,  0.,  0.,  0.,  0.,  0.,  0.,  0.,  0.,  0.,  0.,  0.,\n",
            "        0.,  0.,  0.,  0.,  0.,  0.,  0.,  0.,  0.,  0.,  0.,  0.,  0.,\n",
            "        0.,  0.,  0.,  0.,  0.,  0.,  0.,  0.,  0.,  0.,  0.,  0.,  0.,\n",
            "        0.,  0.,  0.,  0.,  0.,  0.,  0.,  0.,  0.,  0.,  0.,  0.,  0.,\n",
            "        0.,  0.,  0.,  0.,  0.,  0.,  0.,  0.,  0.,  0.,  0.,  0.,  0.,\n",
            "        0.,  0.,  0.,  0.,  0.,  0.,  0.,  0.,  0.,  0.,  0.,  0.,  0.,\n",
            "        0.,  0.,  0.,  0.,  0.,  0.,  0.,  0.,  0.,  0.,  0.,  0.,  0.,\n",
            "        0.,  0.,  0.,  0.,  0.,  0.,  0.,  0.,  0.,  0.,  0.,  0.,  0.,\n",
            "        0.,  0.,  0.,  0.,  0.,  0.,  0.,  0.,  0.,  0.,  0.,  0.,  0.,\n",
            "        0.,  0.,  0.,  0.,  0.,  0.,  0.,  0.,  0.,  0.,  0.,  0.,  0.,\n",
            "        0.,  0.,  0.,  0.,  0.,  0.,  0.,  0.,  0.,  0.,  0.,  0.,  0.,\n",
            "        0.,  0.,  0.,  0.,  0.,  0.,  0.,  0.,  0.,  0.,  0.,  0.,  0.,\n",
            "        0.,  0.,  0.,  0.,  0.,  0.,  0.,  0.,  0.,  0.,  0.,  0.,  0.,\n",
            "        0.,  0.,  0.,  0.,  0.,  0.,  0.,  0.,  0.,  0.,  0.,  0.,  0.,\n",
            "        0.,  0.,  0.,  0.,  0.,  0.,  0.,  0.,  0.,  0.,  0.,  0.,  0.,\n",
            "        0.,  0.,  0.,  0.,  0.,  0.,  0.,  0.,  0.,  0.,  0.,  0.,  0.,\n",
            "        0.,  0.,  0.,  0.,  0.,  0.,  0.,  0.,  0.,  0.,  0.,  0.,  0.,\n",
            "        0.,  0.,  0.,  0.,  0.,  0.,  0.,  0.,  0.,  0.,  0.,  0.,  0.,\n",
            "        0.,  0.,  0.,  0.,  0.,  0.,  0.,  0.,  0.,  0.,  0.,  0.,  0.,\n",
            "        0.,  0.,  0.,  0.,  0.,  0.,  0.,  0.,  0.,  0.,  0.,  0.,  0.,\n",
            "        0.,  0.,  0.,  0.,  0.,  0.,  0.,  0.,  0.,  0.,  0.,  0.,  0.,\n",
            "        0.,  0.,  0.,  0.,  0.,  0.,  0.,  0.,  0.,  0.,  0.,  0.,  0.,\n",
            "        0.,  0.,  0.,  0.,  0.,  0.,  0.,  0.,  0.,  0.,  0.,  0.,  0.,\n",
            "        0.,  0.,  0.,  0.,  0.,  0.,  0.,  0.,  0.,  0.,  0.,  0.,  0.,\n",
            "        0.,  0.,  0.,  0.,  0.,  0.,  0.,  0.,  0.,  0.,  0.,  0.,  0.,\n",
            "        0.,  0.,  0.,  0.,  0.,  0.,  0.,  0.,  0.,  0.,  0.,  0.,  0.,\n",
            "        0.,  0.,  0.,  0.,  0.,  0.,  0.,  0.,  0.,  0.,  0.,  0.,  0.,\n",
            "        0.,  0.,  0.,  0.,  0.,  0.,  0.,  0.,  0.,  0.,  0.,  0.,  0.,\n",
            "        0.,  0.,  0.,  0.,  0.,  0.,  0.,  0.,  0.,  0.,  0.,  0.,  0.,\n",
            "        0.,  0.,  0.,  0.,  0.,  0.,  0.,  0.,  0.,  0.,  0.,  0.,  0.,\n",
            "        0.,  0.,  0.,  0.,  0.,  0.,  0.,  0.,  0.,  0.,  0.,  0.,  0.,\n",
            "        0.,  0.,  0.,  0.,  0.,  0.,  0.,  0.,  0.,  0.,  0.,  0.,  0.,\n",
            "        0.,  0.,  0.,  0.,  0.,  0.,  0.,  0.,  0.,  0.,  0.,  0.,  0.,\n",
            "        0.,  0.,  0.,  0.,  0.,  0.,  0.,  0.,  0.,  0.,  0.,  0.,  0.,\n",
            "        0.,  0.,  0.,  0.,  0.,  0.,  0.,  0.,  0.,  0.,  0.,  0.,  0.,\n",
            "        0.,  0.,  0.,  0.,  0.,  0.,  0.,  0.,  0.,  0.,  0.,  0.,  0.,\n",
            "        0.,  0.,  0.,  0.,  0.,  0.,  0.,  0.,  0.,  0.,  0.,  0.,  0.,\n",
            "        0.,  0.,  0.,  0.,  0.,  0.,  0.,  0.,  0.,  0.,  0.,  0.,  0.,\n",
            "        0.,  0.,  0.,  0.,  0.,  0.,  0.,  0.,  0.,  0.,  0.,  0.,  0.,\n",
            "        0.,  0.,  0.,  0.,  0.,  0.,  0.,  0.,  0.,  0.,  0.,  0.,  0.,\n",
            "        0.,  0.,  0.,  0.,  0.,  0.,  0.,  0.,  0.,  0.,  0.,  0.,  0.,\n",
            "        0.,  0.,  0.,  0.,  0.,  0.,  0.,  0.,  0.,  0.,  0.,  0.,  0.,\n",
            "        0.,  0.,  0.,  0.,  0.,  0.,  0.,  0.,  0.,  0.,  0.,  0.,  0.,\n",
            "        0.,  0.,  0.,  0.,  0.,  0.,  0.,  0.,  0.,  0.,  0.,  0.,  0.,\n",
            "        0.,  0.,  0.,  0.,  0.,  0.,  0.,  0.,  0.,  0.,  0.,  0.,  0.,\n",
            "        0.,  0.,  0.,  0.,  0.,  0.,  0.,  0.,  0.,  0.,  0.,  0.,  0.,\n",
            "        0.,  0.,  0.,  0.,  0.,  0.,  0.,  0.,  0.,  0.,  0.,  0.,  0.,\n",
            "        0.,  0.,  0.,  0.,  0.,  0.,  0.,  0.,  0.,  0.,  0.,  0.,  0.,\n",
            "        0.,  0.,  0.,  0.,  0.,  0.,  0.,  0.,  0.,  0.,  0.,  0.])}\n"
          ]
        }
      ]
    },
    {
      "cell_type": "markdown",
      "source": [
        "\n",
        "> Get the final weights and get iterations\n",
        "\n"
      ],
      "metadata": {
        "id": "apX_OgbBlmqw"
      }
    },
    {
      "cell_type": "code",
      "source": [
        "def finalWeights(traces, nb_iters):\n",
        "    return [trace[last] for trace, last in zip(traces, nb_iters)]\n",
        "\n",
        "\n",
        "def adjustWeights(X, Y, learning_alg, nb_runs=10, **params):\n",
        "    _, dim = X.shape\n",
        "    traces, nb_iters = [], []\n",
        "    for i in range(nb_runs):\n",
        "        result = PLA(X, Y, w_init=randomWeightVectors(X), **params)\n",
        "        traces.append(result['Weights']), nb_iters.append(result['Counter'])\n",
        "    return finalWeights(traces, nb_iters), nb_iters"
      ],
      "metadata": {
        "id": "V5bkNg5Al6zU"
      },
      "execution_count": null,
      "outputs": []
    },
    {
      "cell_type": "code",
      "source": [
        "FINAL_WEIGHTS, ITERATIONS = adjustWeights(X, Y, learning_alg=PLA, \n",
        "                                nb_runs=10, **{'max_iter':1000, 'eta':0.01})"
      ],
      "metadata": {
        "id": "D9fhZADtmD29"
      },
      "execution_count": null,
      "outputs": []
    },
    {
      "cell_type": "code",
      "source": [
        "FINAL_WEIGHTS"
      ],
      "metadata": {
        "colab": {
          "base_uri": "https://localhost:8080/"
        },
        "id": "c6T19OWxXiWN",
        "outputId": "75ac9662-9799-4409-a833-3a7c4adcb039"
      },
      "execution_count": null,
      "outputs": [
        {
          "output_type": "execute_result",
          "data": {
            "text/plain": [
              "[array([0.009562293 , 0.4203728636, 0.7026786014]),\n",
              " array([0.0082441389, 0.4612942756, 0.7675613298]),\n",
              " array([-0.0013241123,  0.101213588 ,  0.1485723751]),\n",
              " array([-0.0011150713,  0.0496112325,  0.0553018676]),\n",
              " array([-0.0034614253,  0.24122368  ,  0.3954329242]),\n",
              " array([-0.000711286 ,  0.1773936769,  0.1638047182]),\n",
              " array([-0.0096252851,  0.4050322735,  0.3927627943]),\n",
              " array([0.0037488895, 0.4100897132, 0.6775879366]),\n",
              " array([-0.0060343125,  0.369829849 ,  0.330230971 ]),\n",
              " array([0.0021115761, 0.1655309327, 0.1571127633])]"
            ]
          },
          "metadata": {},
          "execution_count": 286
        }
      ]
    },
    {
      "cell_type": "code",
      "source": [
        "ITERATIONS"
      ],
      "metadata": {
        "colab": {
          "base_uri": "https://localhost:8080/"
        },
        "id": "ZRWGDrximIZg",
        "outputId": "a5488128-9083-4102-8702-3c02ee9eeab5"
      },
      "execution_count": null,
      "outputs": [
        {
          "output_type": "execute_result",
          "data": {
            "text/plain": [
              "[53, 104, 219, 173, 152, 116, 12, 112, 171, 159]"
            ]
          },
          "metadata": {},
          "execution_count": 283
        }
      ]
    },
    {
      "cell_type": "markdown",
      "source": [
        "\n",
        "\n",
        "> Visualize the original hyperplane with the adjusted hyperplanes\n",
        "\n"
      ],
      "metadata": {
        "id": "CstWD-KWmJw9"
      }
    },
    {
      "cell_type": "code",
      "source": [
        "def plotNewWeights(X, Y, weightFunction, weights):\n",
        "    fig, ax = plt.subplots()\n",
        "    ax.set_xlim((-1, 1))\n",
        "    ax.set_ylim((-1, 1))\n",
        "    scatterData(X, Y)\n",
        "    drawHyperplane(w=weightFunction)\n",
        "    for w_final in weights:\n",
        "        drawHyperplane(w=w_final, color='brown')"
      ],
      "metadata": {
        "id": "MHgTbewcmSNP"
      },
      "execution_count": null,
      "outputs": []
    },
    {
      "cell_type": "code",
      "source": [
        "plotNewWeights(X,Y, weightFunction=weightFunction, weights=FINAL_WEIGHTS)"
      ],
      "metadata": {
        "colab": {
          "base_uri": "https://localhost:8080/",
          "height": 269
        },
        "id": "lDTJdCmEmUhS",
        "outputId": "58455fc5-32b2-4927-cc1e-1194efbf3168"
      },
      "execution_count": null,
      "outputs": [
        {
          "output_type": "display_data",
          "data": {
            "text/plain": [
              "<Figure size 432x288 with 1 Axes>"
            ],
            "image/png": "[encoded data removed]"
          },
          "metadata": {
            "needs_background": "light"
          }
        }
      ]
    },
    {
      "cell_type": "markdown",
      "source": [
        "# **Testing With Non Linearly Separable Data**\n",
        "\n",
        "> Here are screenshots of when I ran the code with non linearly separable data. I just changed assigned labels without using the activation function. The error ended up averaging around ~88%, which makes sense when you look at the hyperplane with jumbled data- it just doesn't make sense. \n",
        "\n"
      ],
      "metadata": {
        "id": "6hvIJLoxfxn_"
      }
    },
    {
      "cell_type": "markdown",
      "source": [
        "![Screenshot 2022-09-15 232016.png](data:image/png;base64,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)"
      ],
      "metadata": {
        "id": "yyDBGOK8hwAB"
      }
    },
    {
      "cell_type": "markdown",
      "source": [
        "![Screenshot 2022-09-15 232032.png](data:image/png;base64,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)"
      ],
      "metadata": {
        "id": "b1WlhJeJhxNg"
      }
    },
    {
      "cell_type": "markdown",
      "source": [
        "# **Testing Variations & Conclusions**\n",
        "\n",
        "> I. The initial choice of the weights was to base them off of the activation function.\n",
        "\n",
        "> II. The initial choice of the step size constant was .01 because I wanted the weights to be updated as much as possible. \n",
        "\n",
        "\n",
        "> III. Points were choosen at random when code was run. \n",
        "\n",
        "\n",
        "\n",
        "\n",
        "\n"
      ],
      "metadata": {
        "id": "cBROy2vQhItd"
      }
    },
    {
      "cell_type": "markdown",
      "source": [
        "For me the goal was to create a decision boundary to seperate two classes of data. If I were to do this project again I would use real data to see how that would turn out. "
      ],
      "metadata": {
        "id": "qbHxcMjIi9UA"
      }
    },
    {
      "cell_type": "markdown",
      "source": [
        "# **References**"
      ],
      "metadata": {
        "id": "QHb3oBAEjpPM"
      }
    },
    {
      "cell_type": "markdown",
      "source": [
        "I Aiden Clark certify that this reportis my/our own, independent work and that it does not plagiarize,in part or in full, any other work."
      ],
      "metadata": {
        "id": "_sA_ysNmjrfo"
      }
    },
    {
      "cell_type": "markdown",
      "source": [
        "https://towardsdatascience.com/perceptron-learning-algorithm-d5db0deab975"
      ],
      "metadata": {
        "id": "QM_v5woXjw3A"
      }
    },
    {
      "cell_type": "markdown",
      "source": [
        "https://towardsdatascience.com/perceptron-explanation-implementation-and-a-visual-example-3c8e76b4e2d1"
      ],
      "metadata": {
        "id": "7hvWAzOJj2n5"
      }
    },
    {
      "cell_type": "markdown",
      "source": [
        "https://www.simplilearn.com/tutorials/deep-learning-tutorial/perceptron"
      ],
      "metadata": {
        "id": "z-qp3WWLj3Ie"
      }
    },
    {
      "cell_type": "markdown",
      "source": [
        "https://www.w3schools.com/"
      ],
      "metadata": {
        "id": "NbMmkySkj8Gy"
      }
    }
  ]
}
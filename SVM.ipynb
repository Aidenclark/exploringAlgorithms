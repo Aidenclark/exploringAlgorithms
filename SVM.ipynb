{
  "nbformat": 4,
  "nbformat_minor": 0,
  "metadata": {
    "colab": {
      "provenance": []
    },
    "kernelspec": {
      "name": "python3",
      "display_name": "Python 3"
    },
    "language_info": {
      "name": "python"
    }
  },
  "cells": [
    {
      "cell_type": "code",
      "source": [
        "import numpy as np\n",
        "from matplotlib import pyplot as plt\n",
        "%matplotlib inline"
      ],
      "metadata": {
        "id": "dBEo_M79ZrTQ"
      },
      "execution_count": null,
      "outputs": []
    },
    {
      "cell_type": "markdown",
      "source": [
        "# **Support Vector Machine (SVM) Algorithm**"
      ],
      "metadata": {
        "id": "T4w2Vir7Q0ux"
      }
    },
    {
      "cell_type": "markdown",
      "source": [
        "Perceptron vs SVM\n",
        "\n",
        "> 1. The perceptron does not optimzie the seperation distance as long as there is a hyperplane found.\n",
        "\n",
        "> 2. The SVM optimizes the distance between the sample points. \n",
        "\n",
        "\n",
        "\n"
      ],
      "metadata": {
        "id": "HFHlGsgIRB1v"
      }
    },
    {
      "cell_type": "markdown",
      "source": [
        "\n",
        "\n",
        "> Perceptron: $min∑𝑖=1𝑛(−𝑦𝑖(𝑤𝑥𝑖+𝑤0))$\n",
        "\n",
        "> SVM: $min‖𝑤‖2+𝐶∑𝑖=1𝑛(1−𝑦𝑖(𝑤𝑥𝑖+𝑤0))$\n",
        "\n",
        "\n",
        "\n"
      ],
      "metadata": {
        "id": "_mJLfVjySzjE"
      }
    },
    {
      "cell_type": "markdown",
      "source": [
        "**Process:**\n",
        "\n",
        "> Like the preceptron we will use a stochastic gradient descent algorithm. The gradient descent minimizes the function by following gradients of the cost function.\n",
        "\n",
        "> To calcuate the error we need an objective function. The loss function we will use be the hinge loss function:\n",
        "\n",
        "\n",
        "> $c(x,y,f(x)=(1-y*f(x))$\n",
        "\n",
        "> SVM objective function: $min‖𝑤‖2+𝐶∑𝑖=1𝑛(1−𝑦𝑖(𝑤𝑥𝑖+𝑤0))$ It consits of the two terms, the regularizer and the loss.\n",
        "\n",
        "> Derive the objective funtion: $\\frac{\\delta}{\\delta w_k} \\lambda\\parallel w\\parallel^2 \\ = 2 \\lambda w_k$\n",
        "\n",
        "> $\\frac{\\delta}{\\delta w_k} \\big(1-y_i \\langle x_i,w \\rangle\\big)_+ \\ = \\begin{cases}\n",
        "    0,& \\text{if } y_i \\langle x_i,w \\rangle\\geq 1\\\\\n",
        "    -y_ix_{ik},              & \\text{else}\n",
        "\\end{cases}$\n",
        "\n",
        "> We have to update the weight vector using the gradients. We upadte $w$ from the regularizer\n",
        "\n",
        "> The pseudocode for stochastic gradient descent for the SVM:\n",
        "\n",
        "> if $y_i⟨x_i,w⟩ < 1$:\n",
        "\n",
        "> $w = w + \\eta (y_ix_i - 2\\lambda w)$\n",
        "\n",
        "\n",
        "> else:\n",
        "\n",
        "> $w = w + \\eta (-2\\lambda w)$\n",
        "\n",
        "\n",
        "\n",
        "\n",
        "\n",
        "\n",
        "\n",
        "\n",
        "\n",
        "\n",
        "\n",
        "\n",
        "\n",
        "\n",
        "\n",
        "\n",
        "\n",
        "\n",
        "\n",
        "\n",
        "\n",
        "\n",
        "\n",
        "\n"
      ],
      "metadata": {
        "id": "TCEh4fQWRvYg"
      }
    },
    {
      "cell_type": "markdown",
      "source": [
        "# **PART 1: Linearly Seperable Points**"
      ],
      "metadata": {
        "id": "WeuUY9v-AAdT"
      }
    },
    {
      "cell_type": "markdown",
      "source": [
        "\n",
        "\n",
        "> Assing datapoints and add in bias.\n",
        "\n"
      ],
      "metadata": {
        "id": "3ntZIx1r5W6-"
      }
    },
    {
      "cell_type": "code",
      "execution_count": null,
      "metadata": {
        "id": "5JB9YCvtZKib"
      },
      "outputs": [],
      "source": [
        "X = np.array([\n",
        "    [-2, 4],\n",
        "    [4, 1],\n",
        "    [1, 6],\n",
        "    [2, 4],\n",
        "    [6, 2]\n",
        "])"
      ]
    },
    {
      "cell_type": "code",
      "source": [
        "y = np.array([-1,-1,1,1,1])"
      ],
      "metadata": {
        "id": "j_UQIOSZaDxG"
      },
      "execution_count": null,
      "outputs": []
    },
    {
      "cell_type": "code",
      "source": [
        "X = np.array([\n",
        "    [-2,4,-1],\n",
        "    [4,1,-1],\n",
        "    [1, 6, -1],\n",
        "    [2, 4, -1],\n",
        "    [6, 2, -1],\n",
        "\n",
        "])"
      ],
      "metadata": {
        "id": "ltewIesl5V7v"
      },
      "execution_count": null,
      "outputs": []
    },
    {
      "cell_type": "markdown",
      "source": [
        "\n",
        "\n",
        "> Print the data points and visualize what the hyperplane might look like. \n",
        "\n"
      ],
      "metadata": {
        "id": "QAU6f0cWCQHb"
      }
    },
    {
      "cell_type": "code",
      "source": [
        "plt.scatter(X[:,0], X[:,1], c='r')\n",
        "plt.scatter(X[2:,0], X[2:,1], c='b')\n",
        "plt.plot([-2,6],[6,0])"
      ],
      "metadata": {
        "colab": {
          "base_uri": "https://localhost:8080/",
          "height": 283
        },
        "id": "1nCvrpU9BPfh",
        "outputId": "9acdc499-0c4e-4b6f-f3a1-f3dacd255cfb"
      },
      "execution_count": null,
      "outputs": [
        {
          "output_type": "execute_result",
          "data": {
            "text/plain": [
              "[<matplotlib.lines.Line2D at 0x7f93cb416250>]"
            ]
          },
          "metadata": {},
          "execution_count": 5
        },
        {
          "output_type": "display_data",
          "data": {
            "text/plain": [
              "<Figure size 432x288 with 1 Axes>"
            ],
            "image/png": "[encoded data removed]"
          },
          "metadata": {
            "needs_background": "light"
          }
        }
      ]
    },
    {
      "cell_type": "markdown",
      "source": [
        "# **Define Baseline SVM Stochastic Gradient Descent**"
      ],
      "metadata": {
        "id": "tgz-4C_dNPpj"
      }
    },
    {
      "cell_type": "code",
      "source": [
        "def SVM_stochastic_gradient_descent(X, Y):\n",
        "\n",
        "    weights = np.zeros(len(X[0]))\n",
        "    eta = 1\n",
        "    EPOCHS = 100000\n",
        "\n",
        "\n",
        "    for epoch in range(1,EPOCHS):\n",
        "        for i, x in enumerate(X):\n",
        "            if (Y[i]*np.dot(X[i], weights)) < 1:\n",
        "                weights = weights + eta * ( (X[i] * Y[i]) + (-2  *(1/epoch)* weights) )\n",
        "            else:\n",
        "                weights = weights + eta * (-2  *(1/epoch)* weights)\n",
        "\n",
        "    return weights\n",
        "\n",
        "weights = SVM_stochastic_gradient_descent(X,y)\n",
        "print(weights)"
      ],
      "metadata": {
        "colab": {
          "base_uri": "https://localhost:8080/"
        },
        "id": "N0POq_vY7W1Y",
        "outputId": "d3c05f25-6b4c-4811-f2ef-885bd7c54430"
      },
      "execution_count": null,
      "outputs": [
        {
          "output_type": "stream",
          "name": "stdout",
          "text": [
            "[ 1.58876117  3.17458055 11.11863105]\n"
          ]
        }
      ]
    },
    {
      "cell_type": "markdown",
      "source": [
        "# **Stochastic Gradient Descent Alogorithm**"
      ],
      "metadata": {
        "id": "WoU9Jk6PCyZT"
      }
    },
    {
      "cell_type": "markdown",
      "source": [
        "\n",
        "1.   Initialize the weight vectors from the percpetron with zeros\n",
        "2.   Set learning rate\n",
        "3.   Set number of EPOCHS\n",
        "4.   Iterate over selected number of times\n",
        "5.   Iterate over each sample\n",
        "6.   Check missclassifications\n",
        "7.   Update the weight rules: $w=w+y_i*x_i$\n",
        "8.   If classified correctly then update weights by the derived regularizer \n",
        "\n",
        "\n",
        "\n"
      ],
      "metadata": {
        "id": "VARtdA9pEVfi"
      }
    },
    {
      "cell_type": "markdown",
      "source": [
        "\n",
        "\n",
        "> Execute the the code and calculate the proper weight vector. Then print which samples are missclassified. \n",
        "\n"
      ],
      "metadata": {
        "id": "wvkWr6knGiWj"
      }
    },
    {
      "cell_type": "code",
      "source": [
        "def SVM_stochastic_gradient_descent(X, Y):\n",
        "    weights = np.zeros(len(X[0]))\n",
        "    eta = 1\n",
        "    EPOCHS = 100000\n",
        "\n",
        "    for epoch in range(1,n):\n",
        "        for i, x in enumerate(X):\n",
        "            if (Y[i]*np.dot(X[i], weights)) < 1:\n",
        "                weights = weights + eta * ( (X[i] * Y[i]) + (-2  *(1/epoch)* weights) )\n",
        "            else:\n",
        "                weights = weights + eta * (-2  *(1/epoch)* weights)\n",
        "\n",
        "    return weights"
      ],
      "metadata": {
        "id": "u0t1gyZW6g5a"
      },
      "execution_count": null,
      "outputs": []
    },
    {
      "cell_type": "code",
      "source": [
        "def SVM_stochastic_gradient_descent_plot(X, Y):\n",
        "\n",
        "    weights = np.zeros(len(X[0]))\n",
        "    eta = 1\n",
        "    EPOCHS = 100000\n",
        "    errors = []\n",
        "\n",
        "\n",
        "    for epoch in range(1,EPOCHS):\n",
        "        error = 0\n",
        "        for i, x in enumerate(X):\n",
        "            if (Y[i]*np.dot(X[i], weights)) < 1:\n",
        "                weights = weights + eta * ( (X[i] * Y[i]) + (-2  *(1/epoch)* weights) )\n",
        "                error = 1\n",
        "            else:\n",
        "                weights = weights + eta * (-2  *(1/epoch)* weights)\n",
        "        errors.append(error)\n",
        "\n",
        "    plt.plot(errors, '|')\n",
        "    plt.ylim(0.5,1.5)\n",
        "    plt.axes().set_yticklabels([])\n",
        "    plt.xlabel('EPOCHS')\n",
        "    plt.ylabel('Misclassified Points')\n",
        "    plt.show()"
      ],
      "metadata": {
        "id": "D6iCrGPf6u-0"
      },
      "execution_count": null,
      "outputs": []
    },
    {
      "cell_type": "code",
      "source": [
        "SVM_stochastic_gradient_descent_plot(X,y)"
      ],
      "metadata": {
        "colab": {
          "base_uri": "https://localhost:8080/",
          "height": 335
        },
        "id": "1xxdj-Ug6w3H",
        "outputId": "f665598f-2b2c-4c2c-cde7-b48ef0c265d2"
      },
      "execution_count": null,
      "outputs": [
        {
          "output_type": "stream",
          "name": "stderr",
          "text": [
            "<ipython-input-8-c4fd516f0e8e>:21: MatplotlibDeprecationWarning: Adding an axes using the same arguments as a previous axes currently reuses the earlier instance.  In a future version, a new instance will always be created and returned.  Meanwhile, this warning can be suppressed, and the future behavior ensured, by passing a unique label to each axes instance.\n",
            "  plt.axes().set_yticklabels([])\n"
          ]
        },
        {
          "output_type": "display_data",
          "data": {
            "text/plain": [
              "<Figure size 432x288 with 1 Axes>"
            ],
            "image/png": "[encoded data removed]"
          },
          "metadata": {
            "needs_background": "light"
          }
        }
      ]
    },
    {
      "cell_type": "markdown",
      "source": [
        "\n",
        "\n",
        "> The graph shows the more training that is done the more missclassifications. The perceptron on the other hand does not reach zero missclassifications.\n",
        "\n",
        "> The SVM always tries to optimize the hyperplane by maxmizing the distance between the two classes in contrast to the perceptron\n",
        "\n",
        "\n",
        "\n"
      ],
      "metadata": {
        "id": "oR8lUrySLaGl"
      }
    },
    {
      "cell_type": "markdown",
      "source": [
        "# **Check Test Samples**"
      ],
      "metadata": {
        "id": "-snpiErEMp2m"
      }
    },
    {
      "cell_type": "markdown",
      "source": [
        "\n",
        "\n",
        "> Plot all of the samples and add the test samples. Print the hyperplane that is calculated by the SVM. \n",
        "\n"
      ],
      "metadata": {
        "id": "vjFpvP6UN1hT"
      }
    },
    {
      "cell_type": "code",
      "source": [
        "for d, SAMPLE in enumerate(X):\n",
        "    if d < 2:\n",
        "        plt.scatter(SAMPLE[0], SAMPLE[1], marker='_')\n",
        "    else:\n",
        "        plt.scatter(SAMPLE[0], SAMPLE[1], marker='+')\n",
        "\n",
        "plt.scatter(2,2, marker='_', color='blue')\n",
        "plt.scatter(4,3, marker='+', color='red')\n",
        "\n",
        "x2=[weights[0],weights[1],-weights[1],weights[0]]\n",
        "x3=[weights[0],weights[1],weights[1],-weights[0]]\n",
        "\n",
        "x2x3 =np.array([x2,x3])\n",
        "X,Y,U,V = zip(*x2x3)\n",
        "ax = plt.gca()\n",
        "ax.quiver(X,Y,U,V,scale=1, color='blue')"
      ],
      "metadata": {
        "colab": {
          "base_uri": "https://localhost:8080/",
          "height": 283
        },
        "id": "x6EY4uxO609U",
        "outputId": "a6ccf5cd-6429-4cb6-a741-2ce524b62c8d"
      },
      "execution_count": null,
      "outputs": [
        {
          "output_type": "execute_result",
          "data": {
            "text/plain": [
              "<matplotlib.quiver.Quiver at 0x7f93caeca7f0>"
            ]
          },
          "metadata": {},
          "execution_count": 10
        },
        {
          "output_type": "display_data",
          "data": {
            "text/plain": [
              "<Figure size 432x288 with 1 Axes>"
            ],
            "image/png": "[encoded data removed]"
          },
          "metadata": {
            "needs_background": "light"
          }
        }
      ]
    },
    {
      "cell_type": "markdown",
      "source": [
        "**Equation:** $f(x) = \\langle x,(1.56,3.17)\\rangle - 11.12$"
      ],
      "metadata": {
        "id": "uI-1Vl5XgsVE"
      }
    },
    {
      "cell_type": "markdown",
      "source": [
        "**Weight vector:** $(1.56,3.17)$"
      ],
      "metadata": {
        "id": "DCbQ5vlvgy0M"
      }
    },
    {
      "cell_type": "markdown",
      "source": [
        "# **PART 2: Non-Linearly Seperable Points**"
      ],
      "metadata": {
        "id": "pnI1YNqyc5hz"
      }
    },
    {
      "cell_type": "markdown",
      "source": [
        "\n",
        "\n",
        "> Much like how a perceptron perfoms with non-linearly seperable data, the data is too extreme for the hyperplane to properly classify the points with a hyperplane. \n",
        "\n"
      ],
      "metadata": {
        "id": "C931HbV-dvTx"
      }
    },
    {
      "cell_type": "code",
      "source": [
        "X = np.array([\n",
        "    [-2,3,-1],\n",
        "    [4,1,-1],\n",
        "    [2, 4, -1],\n",
        "    [5, 1, -1],\n",
        "    [3, 2, -1],\n",
        "\n",
        "])"
      ],
      "metadata": {
        "id": "R-U06a6gdLha"
      },
      "execution_count": null,
      "outputs": []
    },
    {
      "cell_type": "code",
      "source": [
        "plt.scatter(X[:,0], X[:,1], c='r')\n",
        "plt.scatter(X[2:,0], X[2:,1], c='b')\n",
        "plt.plot([-2,6],[6,0])"
      ],
      "metadata": {
        "colab": {
          "base_uri": "https://localhost:8080/",
          "height": 283
        },
        "id": "7aHGgqqVdPxb",
        "outputId": "7c47d65e-d8e5-4bae-c02d-37c61fcdd8d0"
      },
      "execution_count": null,
      "outputs": [
        {
          "output_type": "execute_result",
          "data": {
            "text/plain": [
              "[<matplotlib.lines.Line2D at 0x7f93c8e17fa0>]"
            ]
          },
          "metadata": {},
          "execution_count": 14
        },
        {
          "output_type": "display_data",
          "data": {
            "text/plain": [
              "<Figure size 432x288 with 1 Axes>"
            ],
            "image/png": "[encoded data removed]"
          },
          "metadata": {
            "needs_background": "light"
          }
        }
      ]
    },
    {
      "cell_type": "code",
      "source": [
        "SVM_stochastic_gradient_descent_plot(X,y)"
      ],
      "metadata": {
        "colab": {
          "base_uri": "https://localhost:8080/",
          "height": 335
        },
        "id": "vlaSbUTAdnNk",
        "outputId": "4dd2dad4-3b6f-48b1-c998-81529e79e93c"
      },
      "execution_count": null,
      "outputs": [
        {
          "output_type": "stream",
          "name": "stderr",
          "text": [
            "<ipython-input-8-c4fd516f0e8e>:21: MatplotlibDeprecationWarning: Adding an axes using the same arguments as a previous axes currently reuses the earlier instance.  In a future version, a new instance will always be created and returned.  Meanwhile, this warning can be suppressed, and the future behavior ensured, by passing a unique label to each axes instance.\n",
            "  plt.axes().set_yticklabels([])\n"
          ]
        },
        {
          "output_type": "display_data",
          "data": {
            "text/plain": [
              "<Figure size 432x288 with 1 Axes>"
            ],
            "image/png": "[encoded data removed]"
          },
          "metadata": {
            "needs_background": "light"
          }
        }
      ]
    },
    {
      "cell_type": "code",
      "source": [
        "for d, SAMPLE in enumerate(X):\n",
        "    if d < 2:\n",
        "        plt.scatter(SAMPLE[0], SAMPLE[1], marker='_')\n",
        "    else:\n",
        "        plt.scatter(SAMPLE[0], SAMPLE[1], marker='+')\n",
        "\n",
        "plt.scatter(2,2, marker='_', color='blue')\n",
        "plt.scatter(4,3, marker='+', color='red')\n",
        "\n",
        "x2=[weights[0],weights[1],-weights[1],weights[0]]\n",
        "x3=[weights[0],weights[1],weights[1],-weights[0]]\n",
        "\n",
        "x2x3 =np.array([x2,x3])\n",
        "X,Y,U,V = zip(*x2x3)\n",
        "ax = plt.gca()\n",
        "ax.quiver(X,Y,U,V,scale=1, color='blue')"
      ],
      "metadata": {
        "colab": {
          "base_uri": "https://localhost:8080/",
          "height": 283
        },
        "id": "Kv5Qta9XdsmI",
        "outputId": "6289aa1a-9f2a-4c41-ce94-a2bc173e39de"
      },
      "execution_count": null,
      "outputs": [
        {
          "output_type": "execute_result",
          "data": {
            "text/plain": [
              "<matplotlib.quiver.Quiver at 0x7f93c8cf12b0>"
            ]
          },
          "metadata": {},
          "execution_count": 16
        },
        {
          "output_type": "display_data",
          "data": {
            "text/plain": [
              "<Figure size 432x288 with 1 Axes>"
            ],
            "image/png": "[encoded data removed]"
          },
          "metadata": {
            "needs_background": "light"
          }
        }
      ]
    },
    {
      "cell_type": "code",
      "source": [
        "x2x3"
      ],
      "metadata": {
        "colab": {
          "base_uri": "https://localhost:8080/"
        },
        "id": "deO3dyiggT6j",
        "outputId": "514a9bfc-483b-4340-c36d-36eb096c6f51"
      },
      "execution_count": null,
      "outputs": [
        {
          "output_type": "execute_result",
          "data": {
            "text/plain": [
              "array([[ 1.58876117,  3.17458055, -3.17458055,  1.58876117],\n",
              "       [ 1.58876117,  3.17458055,  3.17458055, -1.58876117]])"
            ]
          },
          "metadata": {},
          "execution_count": 17
        }
      ]
    },
    {
      "cell_type": "markdown",
      "source": [
        "**Equation:** $f(x) = \\langle x,(3.17,1.58)\\rangle - 6.67$"
      ],
      "metadata": {
        "id": "KNw08ZO6huuU"
      }
    },
    {
      "cell_type": "markdown",
      "source": [
        "**Weight vector:** $(3.17,1.58)$"
      ],
      "metadata": {
        "id": "LUwedeJCiJRp"
      }
    },
    {
      "cell_type": "markdown",
      "source": [
        "# **References**"
      ],
      "metadata": {
        "id": "d2l01F2oeu7I"
      }
    },
    {
      "cell_type": "markdown",
      "source": [
        "https://stats.stackexchange.com/questions/61189/difference-between-a-svm-and-a-perceptron"
      ],
      "metadata": {
        "id": "L0U24BFYewvB"
      }
    },
    {
      "cell_type": "markdown",
      "source": [
        "https://colab.research.google.com/github/jakevdp/PythonDataScienceHandbook/blob/master/notebooks/05.07-Support-Vector-Machines.ipynb"
      ],
      "metadata": {
        "id": "RAOSYImfe1tz"
      }
    },
    {
      "cell_type": "markdown",
      "source": [
        "Schölkopf & Smola (2002)"
      ],
      "metadata": {
        "id": "yvLE33bNe6jr"
      }
    },
    {
      "cell_type": "markdown",
      "source": [
        "https://www.datacamp.com/tutorial/svm-classification-scikit-learn-python"
      ],
      "metadata": {
        "id": "nmlMfBwWe7N5"
      }
    },
    {
      "cell_type": "markdown",
      "source": [
        "https://www.analyticsvidhya.com/blog/2020/10/the-mathematics-behind-svm/"
      ],
      "metadata": {
        "id": "DrQuBd2AfJM0"
      }
    },
    {
      "cell_type": "markdown",
      "source": [
        "I Aiden Clark certify that this reportis my/our own, independent work and that it does not plagiarize,in part or in full, any other work."
      ],
      "metadata": {
        "id": "bftQmGsdfMB_"
      }
    }
  ]
}
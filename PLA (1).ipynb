{
  "nbformat": 4,
  "nbformat_minor": 0,
  "metadata": {
    "colab": {
      "provenance": []
    },
    "kernelspec": {
      "name": "python3",
      "display_name": "Python 3"
    },
    "language_info": {
      "name": "python"
    }
  },
  "cells": [
    {
      "cell_type": "markdown",
      "source": [
        "https://github.com/alerti/PLA-perceptron-learning-algorithm-/blob/master/PLA.ipynb"
      ],
      "metadata": {
        "id": "kCPfkslbN6I5"
      }
    },
    {
      "cell_type": "code",
      "execution_count": null,
      "metadata": {
        "id": "4De1G8G1MkXo"
      },
      "outputs": [],
      "source": [
        "import numpy as np\n",
        "import scipy.stats as ss\n",
        "from matplotlib import pyplot as plt\n",
        "from matplotlib import animation\n",
        "from IPython.display import Image\n",
        "\n",
        "%precision 10\n",
        "%matplotlib inline"
      ]
    },
    {
      "cell_type": "markdown",
      "source": [
        "# **Perceptron Learning Algorithm (not linearly separable)**\n",
        "\n"
      ],
      "metadata": {
        "id": "YAJD9EoodZYP"
      }
    },
    {
      "cell_type": "markdown",
      "source": [
        "**Notes:**\n",
        "\n",
        "1.   Datapoints were generated based on the weight function. \n",
        "2.   The points are linearly seperable. \n",
        "3.   The new testing weights are linearly seperable. \n",
        "4.   Weights are based on the datapoints distance from the activation function. \n",
        "5.   The activation function is simply a -x function.\n",
        "6.   Number of runs was 10. \n",
        "7.   Max number of iterations was 1000.\n",
        "8.   Misclassification error: 0% (datapoints were seperated by the weight function)\n",
        "\n"
      ],
      "metadata": {
        "id": "gtxV7jNpQxw1"
      }
    },
    {
      "cell_type": "markdown",
      "source": [
        "# Generating Data"
      ],
      "metadata": {
        "id": "XjXFajsrdeIM"
      }
    },
    {
      "cell_type": "markdown",
      "source": [
        "I will generate some data along the data points $ X = (x_1, ... , x_d) $ with $d$ dimensions $[-1, 1] $.  The dataset will have $N$ as the number of datapoints. The target function $ f(x) $will be values from positive and negetive. "
      ],
      "metadata": {
        "id": "NkKSylmU17fR"
      }
    },
    {
      "cell_type": "markdown",
      "source": [
        "**The Formula:**\n",
        "$X$ and $W$ are the the inputs and weights respectively that are the two arrows in a d+1 dimensional space.  "
      ],
      "metadata": {
        "id": "AqrZivmx3MD5"
      }
    },
    {
      "cell_type": "markdown",
      "source": [
        "\n",
        "$\\displaystyle\\sum_{i=0} ^{d+1} W . X$<div class=\"open_grepper_editor\" title=\"Edit & Save To Grepper\"></div>"
      ],
      "metadata": {
        "id": "oYb9maXq5Vr5"
      }
    },
    {
      "cell_type": "markdown",
      "source": [
        "![general-diagram-of-perceptron-for-supervised-learning_4.avif](data:image/avif;base64,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)"
      ],
      "metadata": {
        "id": "9oMd1N955mps"
      }
    },
    {
      "cell_type": "markdown",
      "source": [
        "# **Generate the Datasets:**\n",
        "\n",
        "> The numbers will be random from $[-1, 1] $\n",
        "\n"
      ],
      "metadata": {
        "id": "DDSW1jkh6QC1"
      }
    },
    {
      "cell_type": "code",
      "source": [
        "d = 2 # dimensions\n",
        "N = 50 # datapoints in the set of data\n",
        "numberOfSets = 1 # number of sets"
      ],
      "metadata": {
        "id": "jgiCWO0CjPwP"
      },
      "execution_count": null,
      "outputs": []
    },
    {
      "cell_type": "code",
      "source": [
        "numberOfPoints = N*numberOfSets\n",
        "allDatasets = np.ones(shape=(numberOfPoints, 1+d)) # return array with ones\n",
        "allDatasets[:, 1:] = np.random.uniform(low=-1, high=+1, size=(numberOfPoints, d))"
      ],
      "metadata": {
        "id": "wWqU3T1WeOm1"
      },
      "execution_count": null,
      "outputs": []
    },
    {
      "cell_type": "markdown",
      "source": [
        "# **Activation Function**\n",
        "\n",
        "> The activation funtion will be based off of the weight vector. This will be the hyperplane $f(x_1,x_2) = x_1 + x_2$\n",
        "\n"
      ],
      "metadata": {
        "id": "hGHBlCsR7XtH"
      }
    },
    {
      "cell_type": "code",
      "source": [
        "def weightTarget(d):\n",
        "    w = np.ones(shape=1+d)\n",
        "    w[0] = 0\n",
        "    return w"
      ],
      "metadata": {
        "id": "mdwYB7u4lLOM"
      },
      "execution_count": null,
      "outputs": []
    },
    {
      "cell_type": "code",
      "source": [
        "# target with array aligns with dimension\n",
        "weightFunction = weightTarget(d=2)\n",
        "weightFunction"
      ],
      "metadata": {
        "colab": {
          "base_uri": "https://localhost:8080/"
        },
        "id": "7TdlEf4PyArt",
        "outputId": "cefc43b1-9914-4ef4-f3cd-1161457de497"
      },
      "execution_count": null,
      "outputs": [
        {
          "output_type": "execute_result",
          "data": {
            "text/plain": [
              "array([0., 1., 1.])"
            ]
          },
          "metadata": {},
          "execution_count": 73
        }
      ]
    },
    {
      "cell_type": "code",
      "source": [
        "allLabels = np.sign(allDatasets@weightFunction.T)"
      ],
      "metadata": {
        "id": "nfMsZQebaGHE"
      },
      "execution_count": null,
      "outputs": []
    },
    {
      "cell_type": "code",
      "source": [
        "def dataGenerator(N, d, nmberOfSets):\n",
        "    numberOfPoints = N*numberOfSets\n",
        "    allDatasets = np.ones(shape=(numberOfPoints, 1+d)) # return array with ones\n",
        "    allDatasets[:, 1:] = np.random.uniform(low=-1, high=+1, size=(numberOfPoints, d))\n",
        "    weightFunction = weightTarget(d)\n",
        "    #allLabels = np.sign(allDatasets@weightFunction.T)\n",
        "\n",
        "    # give labels to datasets using the target function\n",
        "    return {'Datasets':allDatasets,\n",
        "            \n",
        "            'Labels':allLabels, \n",
        "\n",
        "            'Datapoints per set': N,\n",
        "\n",
        "            'Dimension': d,\n",
        "\n",
        "            'Sets': nmberOfSets,\n",
        "\n",
        "            'Data Generator': weightFunction} \n",
        "\n",
        "# select the set as the training set\n",
        "def trainingGenerator(data, index=0):\n",
        "    allDatasets, allLabels = data['Datasets'], data['Labels']\n",
        "    N, nmberOfSets = data['Datapoints per set'], data['Sets']\n",
        "    assert index < nmberOfSets, 'Not enough sets.'\n",
        "    offset = N*index\n",
        "    return allDatasets[offset:offset+N,:], allLabels[offset:offset+N]  "
      ],
      "metadata": {
        "id": "gnFc6OrslatE"
      },
      "execution_count": null,
      "outputs": []
    },
    {
      "cell_type": "markdown",
      "source": [
        "# **Create the Hyperplane**\n",
        "\n",
        "> Input is coordinate i in the $X$ dataset\n",
        "\n"
      ],
      "metadata": {
        "id": "DgD5PAZz9fZ1"
      }
    },
    {
      "cell_type": "code",
      "source": [
        "DATA = dataGenerator(N=25, d=2, nmberOfSets=10)"
      ],
      "metadata": {
        "id": "-si0MDr_lzXF"
      },
      "execution_count": null,
      "outputs": []
    },
    {
      "cell_type": "code",
      "source": [
        "X, Y = trainingGenerator(data=DATA, index=1)"
      ],
      "metadata": {
        "id": "4ABPHydLl1ph"
      },
      "execution_count": null,
      "outputs": []
    },
    {
      "cell_type": "code",
      "source": [
        "def findCoordinates(i, X):\n",
        "    _, dim = X.shape\n",
        "    assert i < dim\n",
        "    return X[:, i]"
      ],
      "metadata": {
        "id": "cOkHDm3amS0l"
      },
      "execution_count": null,
      "outputs": []
    },
    {
      "cell_type": "code",
      "source": [
        "def scatterData(X, Y, dimension1=1, dimension2=2):\n",
        "    positives, negatives = X[Y==+1], X[Y==-1]\n",
        "    \n",
        "    pos_x, pos_y = findCoordinates(X=positives, i=dimension1), findCoordinates(X=positives, i=dimension2)\n",
        "    neg_x, neg_y = findCoordinates(X=negatives, i=dimension1), findCoordinates(X=negatives, i=dimension2)\n",
        "\n",
        "    plt.scatter(pos_x, pos_y, color='green')\n",
        "    plt.scatter(neg_x, neg_y, color='red')"
      ],
      "metadata": {
        "id": "N_JLbcOZv2XI"
      },
      "execution_count": null,
      "outputs": []
    },
    {
      "cell_type": "code",
      "source": [
        "def createHyperplane(w, dimension1=1, dimension2=2): # h means hyperpla\n",
        "    w_0, w_1, w_2 = w[0], w[dimension1], w[dimension2]\n",
        "    assert w_2 != 0\n",
        "    return lambda x : (-1/w_2)*(w_1*x + w_0)\n",
        "\n",
        "\n",
        "def drawHyperplane(w, dimension1=1, dimension2=2, color='blue'):\n",
        "    #dim = len(w)\n",
        "    #assert dimension1 < dim and dimension2 < dim\n",
        "    h = createHyperplane(w=w, dimension1=dimension1, dimension2=dimension2)\n",
        "    x = np.linspace(start=-1.0, stop=1.0, endpoint=True, num=50)\n",
        "    plt.plot(x, h(x), color)"
      ],
      "metadata": {
        "id": "-fcy_4W9wDbb"
      },
      "execution_count": null,
      "outputs": []
    },
    {
      "cell_type": "code",
      "source": [
        "def graphTrainingSet(X, Y):\n",
        "    global weightFunction\n",
        "    scatterData(X, Y, dimension1=1, dimension2=2)\n",
        "    drawHyperplane(w=weightFunction)"
      ],
      "metadata": {
        "id": "WNV4874JwFuT"
      },
      "execution_count": null,
      "outputs": []
    },
    {
      "cell_type": "code",
      "source": [
        "graphTrainingSet(X, Y)"
      ],
      "metadata": {
        "colab": {
          "base_uri": "https://localhost:8080/",
          "height": 311
        },
        "id": "ieGfuXwrwGqo",
        "outputId": "06810287-0a7a-4b15-ac3b-4bacfaf47498"
      },
      "execution_count": null,
      "outputs": [
        {
          "output_type": "error",
          "ename": "IndexError",
          "evalue": "ignored",
          "traceback": [
            "\u001b[0;31m---------------------------------------------------------------------------\u001b[0m",
            "\u001b[0;31mIndexError\u001b[0m                                Traceback (most recent call last)",
            "\u001b[0;32m<ipython-input-82-b1951dd20494>\u001b[0m in \u001b[0;36m<module>\u001b[0;34m\u001b[0m\n\u001b[0;32m----> 1\u001b[0;31m \u001b[0mgraphTrainingSet\u001b[0m\u001b[0;34m(\u001b[0m\u001b[0mX\u001b[0m\u001b[0;34m,\u001b[0m \u001b[0mY\u001b[0m\u001b[0;34m)\u001b[0m\u001b[0;34m\u001b[0m\u001b[0;34m\u001b[0m\u001b[0m\n\u001b[0m",
            "\u001b[0;32m<ipython-input-81-fc83518155a5>\u001b[0m in \u001b[0;36mgraphTrainingSet\u001b[0;34m(X, Y)\u001b[0m\n\u001b[1;32m      1\u001b[0m \u001b[0;32mdef\u001b[0m \u001b[0mgraphTrainingSet\u001b[0m\u001b[0;34m(\u001b[0m\u001b[0mX\u001b[0m\u001b[0;34m,\u001b[0m \u001b[0mY\u001b[0m\u001b[0;34m)\u001b[0m\u001b[0;34m:\u001b[0m\u001b[0;34m\u001b[0m\u001b[0;34m\u001b[0m\u001b[0m\n\u001b[1;32m      2\u001b[0m     \u001b[0;32mglobal\u001b[0m \u001b[0mweightFunction\u001b[0m\u001b[0;34m\u001b[0m\u001b[0;34m\u001b[0m\u001b[0m\n\u001b[0;32m----> 3\u001b[0;31m     \u001b[0mscatterData\u001b[0m\u001b[0;34m(\u001b[0m\u001b[0mX\u001b[0m\u001b[0;34m,\u001b[0m \u001b[0mY\u001b[0m\u001b[0;34m,\u001b[0m \u001b[0mdimension1\u001b[0m\u001b[0;34m=\u001b[0m\u001b[0;36m1\u001b[0m\u001b[0;34m,\u001b[0m \u001b[0mdimension2\u001b[0m\u001b[0;34m=\u001b[0m\u001b[0;36m2\u001b[0m\u001b[0;34m)\u001b[0m\u001b[0;34m\u001b[0m\u001b[0;34m\u001b[0m\u001b[0m\n\u001b[0m\u001b[1;32m      4\u001b[0m     \u001b[0mdrawHyperplane\u001b[0m\u001b[0;34m(\u001b[0m\u001b[0mw\u001b[0m\u001b[0;34m=\u001b[0m\u001b[0mweightFunction\u001b[0m\u001b[0;34m)\u001b[0m\u001b[0;34m\u001b[0m\u001b[0;34m\u001b[0m\u001b[0m\n",
            "\u001b[0;32m<ipython-input-79-d316713dd2fd>\u001b[0m in \u001b[0;36mscatterData\u001b[0;34m(X, Y, dimension1, dimension2)\u001b[0m\n\u001b[1;32m      1\u001b[0m \u001b[0;32mdef\u001b[0m \u001b[0mscatterData\u001b[0m\u001b[0;34m(\u001b[0m\u001b[0mX\u001b[0m\u001b[0;34m,\u001b[0m \u001b[0mY\u001b[0m\u001b[0;34m,\u001b[0m \u001b[0mdimension1\u001b[0m\u001b[0;34m=\u001b[0m\u001b[0;36m1\u001b[0m\u001b[0;34m,\u001b[0m \u001b[0mdimension2\u001b[0m\u001b[0;34m=\u001b[0m\u001b[0;36m2\u001b[0m\u001b[0;34m)\u001b[0m\u001b[0;34m:\u001b[0m\u001b[0;34m\u001b[0m\u001b[0;34m\u001b[0m\u001b[0m\n\u001b[0;32m----> 2\u001b[0;31m     \u001b[0mpositives\u001b[0m\u001b[0;34m,\u001b[0m \u001b[0mnegatives\u001b[0m \u001b[0;34m=\u001b[0m \u001b[0mX\u001b[0m\u001b[0;34m[\u001b[0m\u001b[0mY\u001b[0m\u001b[0;34m==\u001b[0m\u001b[0;34m+\u001b[0m\u001b[0;36m1\u001b[0m\u001b[0;34m]\u001b[0m\u001b[0;34m,\u001b[0m \u001b[0mX\u001b[0m\u001b[0;34m[\u001b[0m\u001b[0mY\u001b[0m\u001b[0;34m==\u001b[0m\u001b[0;34m-\u001b[0m\u001b[0;36m1\u001b[0m\u001b[0;34m]\u001b[0m\u001b[0;34m\u001b[0m\u001b[0;34m\u001b[0m\u001b[0m\n\u001b[0m\u001b[1;32m      3\u001b[0m \u001b[0;34m\u001b[0m\u001b[0m\n\u001b[1;32m      4\u001b[0m     \u001b[0mpos_x\u001b[0m\u001b[0;34m,\u001b[0m \u001b[0mpos_y\u001b[0m \u001b[0;34m=\u001b[0m \u001b[0mfindCoordinates\u001b[0m\u001b[0;34m(\u001b[0m\u001b[0mX\u001b[0m\u001b[0;34m=\u001b[0m\u001b[0mpositives\u001b[0m\u001b[0;34m,\u001b[0m \u001b[0mi\u001b[0m\u001b[0;34m=\u001b[0m\u001b[0mdimension1\u001b[0m\u001b[0;34m)\u001b[0m\u001b[0;34m,\u001b[0m \u001b[0mfindCoordinates\u001b[0m\u001b[0;34m(\u001b[0m\u001b[0mX\u001b[0m\u001b[0;34m=\u001b[0m\u001b[0mpositives\u001b[0m\u001b[0;34m,\u001b[0m \u001b[0mi\u001b[0m\u001b[0;34m=\u001b[0m\u001b[0mdimension2\u001b[0m\u001b[0;34m)\u001b[0m\u001b[0;34m\u001b[0m\u001b[0;34m\u001b[0m\u001b[0m\n\u001b[1;32m      5\u001b[0m     \u001b[0mneg_x\u001b[0m\u001b[0;34m,\u001b[0m \u001b[0mneg_y\u001b[0m \u001b[0;34m=\u001b[0m \u001b[0mfindCoordinates\u001b[0m\u001b[0;34m(\u001b[0m\u001b[0mX\u001b[0m\u001b[0;34m=\u001b[0m\u001b[0mnegatives\u001b[0m\u001b[0;34m,\u001b[0m \u001b[0mi\u001b[0m\u001b[0;34m=\u001b[0m\u001b[0mdimension1\u001b[0m\u001b[0;34m)\u001b[0m\u001b[0;34m,\u001b[0m \u001b[0mfindCoordinates\u001b[0m\u001b[0;34m(\u001b[0m\u001b[0mX\u001b[0m\u001b[0;34m=\u001b[0m\u001b[0mnegatives\u001b[0m\u001b[0;34m,\u001b[0m \u001b[0mi\u001b[0m\u001b[0;34m=\u001b[0m\u001b[0mdimension2\u001b[0m\u001b[0;34m)\u001b[0m\u001b[0;34m\u001b[0m\u001b[0;34m\u001b[0m\u001b[0m\n",
            "\u001b[0;31mIndexError\u001b[0m: boolean index did not match indexed array along dimension 0; dimension is 0 but corresponding boolean dimension is 25"
          ]
        }
      ]
    },
    {
      "cell_type": "markdown",
      "source": [
        "# **Enter in Learning Rate**\n",
        "\n",
        "> The goal is to initiate the weight vector $w_0$ and repeat until until no more datapoints are missclassifed $X_n$ from the selected dataset. Then update the weight vector $W_n+1 = W_n+1 + y_nX_n$ and return the final weight vector as $W$. \n",
        "\n"
      ],
      "metadata": {
        "id": "cBLabf6kaDc-"
      }
    },
    {
      "cell_type": "code",
      "source": [
        "def emptyPercep(array):\n",
        "    return array.size == 0\n",
        "    \n",
        "def randomDatapoint(X, Y):\n",
        "    nb_points, _ = X.shape\n",
        "    index = np.random.randint(nb_points)\n",
        "    return X[index], Y[index]"
      ],
      "metadata": {
        "id": "S3SHjQkOa7xJ"
      },
      "execution_count": null,
      "outputs": []
    },
    {
      "cell_type": "markdown",
      "source": [
        "\n",
        "\n",
        "> Input the weight vector $W$ and the training set with the datapoitsn $X$ and lables $Y$. The output is the sample error E_in and matched_p are the matching results.  \n",
        "\n"
      ],
      "metadata": {
        "id": "H_F-QmYwkVse"
      }
    },
    {
      "cell_type": "code",
      "source": [
        "def match(w, X, Y):\n",
        "    predicted_Y = np.sign(X@w.T)\n",
        "    matched_p = (predicted_Y != Y)\n",
        "    E_in = np.sum(matched_p)\n",
        "    return matched_p, E_in"
      ],
      "metadata": {
        "id": "ic16M8xAkU8s"
      },
      "execution_count": null,
      "outputs": []
    },
    {
      "cell_type": "code",
      "source": [
        "def randomWeightVectors(X):\n",
        "    _, dim = X.shape\n",
        "    return np.random.uniform(low=-1, high=+1, size=dim)"
      ],
      "metadata": {
        "id": "jR-b3-OZk49S"
      },
      "execution_count": null,
      "outputs": []
    },
    {
      "cell_type": "code",
      "source": [
        "def PLA(X, Y, w_init, eta=1, max_iter=1000):\n",
        "    N, dim = X.shape\n",
        "\n",
        "    # array to store weights\n",
        "    weights = np.zeros(shape=(max_iter, dim))\n",
        "    E_in_evol = np.zeros(max_iter)\n",
        "    \n",
        "    w = np.copy(w_init)\n",
        "\n",
        "    for n in np.arange(max_iter):\n",
        "        matched_p, E_in = match(w, X, Y)\n",
        "        misclassified_X, correct_Y = X[matched_p], Y[matched_p]\n",
        "        weights[n, :], E_in_evol[n] = w, E_in\n",
        "\n",
        "        if emptyPercep(misclassified_X):\n",
        "            return {'Weights':weights, 'Counter':n, 'In_Sample Error':E_in_evol}\n",
        "        else:\n",
        "            misclassified_x, correct_y = randomDatapoint(misclassified_X, correct_Y)\n",
        "            w = w + eta*correct_y*misclassified_x\n",
        "    else:\n",
        "        return {'Weights':weights, 'Counter':n, 'In_Sample Error':E_in_evol}"
      ],
      "metadata": {
        "id": "Zf8tgfk4lJAh"
      },
      "execution_count": null,
      "outputs": []
    },
    {
      "cell_type": "code",
      "source": [
        "PLA_Result = PLA(X, Y, w_init=randomWeightVectors(X), **{'max_iter':1000, 'eta':0.1})"
      ],
      "metadata": {
        "id": "w2T38tnylU-y"
      },
      "execution_count": null,
      "outputs": []
    },
    {
      "cell_type": "code",
      "source": [
        "print(PLA_Result)"
      ],
      "metadata": {
        "colab": {
          "base_uri": "https://localhost:8080/"
        },
        "id": "F_GVMnipWvWU",
        "outputId": "b412d99c-c4ed-4696-904d-16ef71bf0745"
      },
      "execution_count": null,
      "outputs": [
        {
          "output_type": "stream",
          "name": "stdout",
          "text": [
            "{'Weights': array([[-0.0732751484, -0.2665310454,  0.8061811484],\n",
            "       [ 0.          ,  0.          ,  0.          ],\n",
            "       [ 0.          ,  0.          ,  0.          ],\n",
            "       ...,\n",
            "       [ 0.          ,  0.          ,  0.          ],\n",
            "       [ 0.          ,  0.          ,  0.          ],\n",
            "       [ 0.          ,  0.          ,  0.          ]]), 'Counter': 0, 'In_Sample Error': array([0., 0., 0., 0., 0., 0., 0., 0., 0., 0., 0., 0., 0., 0., 0., 0., 0.,\n",
            "       0., 0., 0., 0., 0., 0., 0., 0., 0., 0., 0., 0., 0., 0., 0., 0., 0.,\n",
            "       0., 0., 0., 0., 0., 0., 0., 0., 0., 0., 0., 0., 0., 0., 0., 0., 0.,\n",
            "       0., 0., 0., 0., 0., 0., 0., 0., 0., 0., 0., 0., 0., 0., 0., 0., 0.,\n",
            "       0., 0., 0., 0., 0., 0., 0., 0., 0., 0., 0., 0., 0., 0., 0., 0., 0.,\n",
            "       0., 0., 0., 0., 0., 0., 0., 0., 0., 0., 0., 0., 0., 0., 0., 0., 0.,\n",
            "       0., 0., 0., 0., 0., 0., 0., 0., 0., 0., 0., 0., 0., 0., 0., 0., 0.,\n",
            "       0., 0., 0., 0., 0., 0., 0., 0., 0., 0., 0., 0., 0., 0., 0., 0., 0.,\n",
            "       0., 0., 0., 0., 0., 0., 0., 0., 0., 0., 0., 0., 0., 0., 0., 0., 0.,\n",
            "       0., 0., 0., 0., 0., 0., 0., 0., 0., 0., 0., 0., 0., 0., 0., 0., 0.,\n",
            "       0., 0., 0., 0., 0., 0., 0., 0., 0., 0., 0., 0., 0., 0., 0., 0., 0.,\n",
            "       0., 0., 0., 0., 0., 0., 0., 0., 0., 0., 0., 0., 0., 0., 0., 0., 0.,\n",
            "       0., 0., 0., 0., 0., 0., 0., 0., 0., 0., 0., 0., 0., 0., 0., 0., 0.,\n",
            "       0., 0., 0., 0., 0., 0., 0., 0., 0., 0., 0., 0., 0., 0., 0., 0., 0.,\n",
            "       0., 0., 0., 0., 0., 0., 0., 0., 0., 0., 0., 0., 0., 0., 0., 0., 0.,\n",
            "       0., 0., 0., 0., 0., 0., 0., 0., 0., 0., 0., 0., 0., 0., 0., 0., 0.,\n",
            "       0., 0., 0., 0., 0., 0., 0., 0., 0., 0., 0., 0., 0., 0., 0., 0., 0.,\n",
            "       0., 0., 0., 0., 0., 0., 0., 0., 0., 0., 0., 0., 0., 0., 0., 0., 0.,\n",
            "       0., 0., 0., 0., 0., 0., 0., 0., 0., 0., 0., 0., 0., 0., 0., 0., 0.,\n",
            "       0., 0., 0., 0., 0., 0., 0., 0., 0., 0., 0., 0., 0., 0., 0., 0., 0.,\n",
            "       0., 0., 0., 0., 0., 0., 0., 0., 0., 0., 0., 0., 0., 0., 0., 0., 0.,\n",
            "       0., 0., 0., 0., 0., 0., 0., 0., 0., 0., 0., 0., 0., 0., 0., 0., 0.,\n",
            "       0., 0., 0., 0., 0., 0., 0., 0., 0., 0., 0., 0., 0., 0., 0., 0., 0.,\n",
            "       0., 0., 0., 0., 0., 0., 0., 0., 0., 0., 0., 0., 0., 0., 0., 0., 0.,\n",
            "       0., 0., 0., 0., 0., 0., 0., 0., 0., 0., 0., 0., 0., 0., 0., 0., 0.,\n",
            "       0., 0., 0., 0., 0., 0., 0., 0., 0., 0., 0., 0., 0., 0., 0., 0., 0.,\n",
            "       0., 0., 0., 0., 0., 0., 0., 0., 0., 0., 0., 0., 0., 0., 0., 0., 0.,\n",
            "       0., 0., 0., 0., 0., 0., 0., 0., 0., 0., 0., 0., 0., 0., 0., 0., 0.,\n",
            "       0., 0., 0., 0., 0., 0., 0., 0., 0., 0., 0., 0., 0., 0., 0., 0., 0.,\n",
            "       0., 0., 0., 0., 0., 0., 0., 0., 0., 0., 0., 0., 0., 0., 0., 0., 0.,\n",
            "       0., 0., 0., 0., 0., 0., 0., 0., 0., 0., 0., 0., 0., 0., 0., 0., 0.,\n",
            "       0., 0., 0., 0., 0., 0., 0., 0., 0., 0., 0., 0., 0., 0., 0., 0., 0.,\n",
            "       0., 0., 0., 0., 0., 0., 0., 0., 0., 0., 0., 0., 0., 0., 0., 0., 0.,\n",
            "       0., 0., 0., 0., 0., 0., 0., 0., 0., 0., 0., 0., 0., 0., 0., 0., 0.,\n",
            "       0., 0., 0., 0., 0., 0., 0., 0., 0., 0., 0., 0., 0., 0., 0., 0., 0.,\n",
            "       0., 0., 0., 0., 0., 0., 0., 0., 0., 0., 0., 0., 0., 0., 0., 0., 0.,\n",
            "       0., 0., 0., 0., 0., 0., 0., 0., 0., 0., 0., 0., 0., 0., 0., 0., 0.,\n",
            "       0., 0., 0., 0., 0., 0., 0., 0., 0., 0., 0., 0., 0., 0., 0., 0., 0.,\n",
            "       0., 0., 0., 0., 0., 0., 0., 0., 0., 0., 0., 0., 0., 0., 0., 0., 0.,\n",
            "       0., 0., 0., 0., 0., 0., 0., 0., 0., 0., 0., 0., 0., 0., 0., 0., 0.,\n",
            "       0., 0., 0., 0., 0., 0., 0., 0., 0., 0., 0., 0., 0., 0., 0., 0., 0.,\n",
            "       0., 0., 0., 0., 0., 0., 0., 0., 0., 0., 0., 0., 0., 0., 0., 0., 0.,\n",
            "       0., 0., 0., 0., 0., 0., 0., 0., 0., 0., 0., 0., 0., 0., 0., 0., 0.,\n",
            "       0., 0., 0., 0., 0., 0., 0., 0., 0., 0., 0., 0., 0., 0., 0., 0., 0.,\n",
            "       0., 0., 0., 0., 0., 0., 0., 0., 0., 0., 0., 0., 0., 0., 0., 0., 0.,\n",
            "       0., 0., 0., 0., 0., 0., 0., 0., 0., 0., 0., 0., 0., 0., 0., 0., 0.,\n",
            "       0., 0., 0., 0., 0., 0., 0., 0., 0., 0., 0., 0., 0., 0., 0., 0., 0.,\n",
            "       0., 0., 0., 0., 0., 0., 0., 0., 0., 0., 0., 0., 0., 0., 0., 0., 0.,\n",
            "       0., 0., 0., 0., 0., 0., 0., 0., 0., 0., 0., 0., 0., 0., 0., 0., 0.,\n",
            "       0., 0., 0., 0., 0., 0., 0., 0., 0., 0., 0., 0., 0., 0., 0., 0., 0.,\n",
            "       0., 0., 0., 0., 0., 0., 0., 0., 0., 0., 0., 0., 0., 0., 0., 0., 0.,\n",
            "       0., 0., 0., 0., 0., 0., 0., 0., 0., 0., 0., 0., 0., 0., 0., 0., 0.,\n",
            "       0., 0., 0., 0., 0., 0., 0., 0., 0., 0., 0., 0., 0., 0., 0., 0., 0.,\n",
            "       0., 0., 0., 0., 0., 0., 0., 0., 0., 0., 0., 0., 0., 0., 0., 0., 0.,\n",
            "       0., 0., 0., 0., 0., 0., 0., 0., 0., 0., 0., 0., 0., 0., 0., 0., 0.,\n",
            "       0., 0., 0., 0., 0., 0., 0., 0., 0., 0., 0., 0., 0., 0., 0., 0., 0.,\n",
            "       0., 0., 0., 0., 0., 0., 0., 0., 0., 0., 0., 0., 0., 0., 0., 0., 0.,\n",
            "       0., 0., 0., 0., 0., 0., 0., 0., 0., 0., 0., 0., 0., 0., 0., 0., 0.,\n",
            "       0., 0., 0., 0., 0., 0., 0., 0., 0., 0., 0., 0., 0., 0.])}\n"
          ]
        }
      ]
    },
    {
      "cell_type": "markdown",
      "source": [
        "\n",
        "> Get the final weights and get iterations\n",
        "\n"
      ],
      "metadata": {
        "id": "apX_OgbBlmqw"
      }
    },
    {
      "cell_type": "code",
      "source": [
        "def finalWeights(traces, nb_iters):\n",
        "    return [trace[last] for trace, last in zip(traces, nb_iters)]\n",
        "\n",
        "\n",
        "def adjustWeights(X, Y, learning_alg, nb_runs=10, **params):\n",
        "    _, dim = X.shape\n",
        "    traces, nb_iters = [], []\n",
        "    for i in range(nb_runs):\n",
        "        result = PLA(X, Y, w_init=randomWeightVectors(X), **params)\n",
        "        traces.append(result['Weights']), nb_iters.append(result['Counter'])\n",
        "    return finalWeights(traces, nb_iters), nb_iters"
      ],
      "metadata": {
        "id": "V5bkNg5Al6zU"
      },
      "execution_count": null,
      "outputs": []
    },
    {
      "cell_type": "code",
      "source": [
        "FINAL_WEIGHTS, ITERATIONS = adjustWeights(X, Y, learning_alg=PLA, \n",
        "                                nb_runs=10, **{'max_iter':1000, 'eta':0.01})"
      ],
      "metadata": {
        "id": "D9fhZADtmD29"
      },
      "execution_count": null,
      "outputs": []
    },
    {
      "cell_type": "code",
      "source": [
        "FINAL_WEIGHTS"
      ],
      "metadata": {
        "colab": {
          "base_uri": "https://localhost:8080/"
        },
        "id": "c6T19OWxXiWN",
        "outputId": "b0dc3bb4-82a3-4386-a6b4-14b0be564a6b"
      },
      "execution_count": null,
      "outputs": [
        {
          "output_type": "execute_result",
          "data": {
            "text/plain": [
              "[array([ 0.68638052  , -0.8536386697,  0.9362858174]),\n",
              " array([ 0.8010714702,  0.9950576744, -0.5423934087]),\n",
              " array([ 0.4990915823, -0.9612018514, -0.9580646744]),\n",
              " array([ 0.9824677179, -0.4761077731, -0.0704423404]),\n",
              " array([ 0.8205565805, -0.9751952567,  0.3964305127]),\n",
              " array([ 0.680586736 , -0.5723494063, -0.0432947274]),\n",
              " array([ 0.2988422675, -0.8758799452,  0.9309629399]),\n",
              " array([ 0.9435413664, -0.7270966006, -0.1899003018]),\n",
              " array([-0.7118672928, -0.3617631562, -0.5805054314]),\n",
              " array([0.799139646 , 0.2088461264, 0.240965576 ])]"
            ]
          },
          "metadata": {},
          "execution_count": 66
        }
      ]
    },
    {
      "cell_type": "code",
      "source": [
        "ITERATIONS"
      ],
      "metadata": {
        "colab": {
          "base_uri": "https://localhost:8080/"
        },
        "id": "ZRWGDrximIZg",
        "outputId": "a96ee641-f5ad-475b-c5a2-19ca81533fec"
      },
      "execution_count": null,
      "outputs": [
        {
          "output_type": "execute_result",
          "data": {
            "text/plain": [
              "[0, 0, 0, 0, 0, 0, 0, 0, 0, 0]"
            ]
          },
          "metadata": {},
          "execution_count": 67
        }
      ]
    },
    {
      "cell_type": "markdown",
      "source": [
        "\n",
        "\n",
        "> Visualize the original hyperplane with the adjusted hyperplanes\n",
        "\n"
      ],
      "metadata": {
        "id": "CstWD-KWmJw9"
      }
    },
    {
      "cell_type": "code",
      "source": [
        "def plotNewWeights(X, Y, weightFunction, weights):\n",
        "    fig, ax = plt.subplots()\n",
        "    ax.set_xlim((-1, 1))\n",
        "    ax.set_ylim((-1, 1))\n",
        "    scatterData(X, Y)\n",
        "    drawHyperplane(w=weightFunction)\n",
        "    for w_final in weights:\n",
        "        drawHyperplane(w=w_final, color='brown')"
      ],
      "metadata": {
        "id": "MHgTbewcmSNP"
      },
      "execution_count": null,
      "outputs": []
    },
    {
      "cell_type": "code",
      "source": [
        "plotNewWeights(X,Y, weightFunction=weightFunction, weights=FINAL_WEIGHTS)"
      ],
      "metadata": {
        "colab": {
          "base_uri": "https://localhost:8080/"
        },
        "id": "lDTJdCmEmUhS",
        "outputId": "218e9489-333a-47f3-f4ce-b11cb5e310e5"
      },
      "execution_count": null,
      "outputs": [
        {
          "output_type": "display_data",
          "data": {
            "text/plain": [
              "<Figure size 432x288 with 1 Axes>"
            ],
            "image/png": "[encoded data removed]"
          },
          "metadata": {
            "needs_background": "light"
          }
        }
      ]
    }
  ]
}
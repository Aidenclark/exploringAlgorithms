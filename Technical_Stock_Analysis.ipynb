{
  "nbformat": 4,
  "nbformat_minor": 0,
  "metadata": {
    "colab": {
      "provenance": []
    },
    "kernelspec": {
      "name": "python3",
      "display_name": "Python 3"
    },
    "language_info": {
      "name": "python"
    }
  },
  "cells": [
    {
      "cell_type": "markdown",
      "source": [
        "# **Technical Stock Analysis and Stock Prediction Using Machine Learning**"
      ],
      "metadata": {
        "id": "_T9Gm7VnRJDt"
      }
    },
    {
      "cell_type": "markdown",
      "source": [
        "\n",
        "\n",
        "> Technical analysis is a key compontent of the stock market. Traders use techincal analysis to pick good stocks to trade and even predict stock prices. Machine learning has had a pronuoced affect on trading on the stock market. New techniques make it easier to learn trends and identify important features that determine how well a stock performs.\n",
        "\n",
        "> I wanted to do a few basic exercises because it is a hot topic in the machine learning commiunity and I have never done anything like it before. The first part does not use tensorflow, but it is some technical analysis that uses an API, so I wanted to show it.\n",
        "\n",
        "> In these examples I used Apple stock. \n",
        "\n",
        "\n",
        "\n",
        "\n",
        "\n"
      ],
      "metadata": {
        "id": "B6gljr9BRVUZ"
      }
    },
    {
      "cell_type": "markdown",
      "source": [
        "https://www.youtube.com/watch?v=OSLDmrBmDM4\n",
        "https://towardsdatascience.com/moving-average-technical-analysis-with-python-2e77633929cb"
      ],
      "metadata": {
        "id": "QNPvpNPrtGbv"
      }
    },
    {
      "cell_type": "markdown",
      "source": [
        "https://site.financialmodelingprep.com/developer/docs/#Stock-Historical-Price"
      ],
      "metadata": {
        "id": "ebRI7_XMtLYO"
      }
    },
    {
      "cell_type": "markdown",
      "source": [
        "# **Technical Analysis**"
      ],
      "metadata": {
        "id": "ciFK2MhUSkrk"
      }
    },
    {
      "cell_type": "markdown",
      "source": [
        "# Imports"
      ],
      "metadata": {
        "id": "kfOWOeDbSqxd"
      }
    },
    {
      "cell_type": "code",
      "execution_count": null,
      "metadata": {
        "id": "yIou83s8g2ec"
      },
      "outputs": [],
      "source": [
        "import requests\n",
        "import pandas as pd\n",
        "import matplotlib.pyplot as plt\n",
        "import json"
      ]
    },
    {
      "cell_type": "markdown",
      "source": [
        "# Definitions"
      ],
      "metadata": {
        "id": "Zrfm7QunSvpf"
      }
    },
    {
      "cell_type": "markdown",
      "source": [
        "\n",
        "\n",
        "> This calculates the 20 day and 250 day moving averages and graphs them. Most data comes with this already calculated, but it is possible to do these conversions yourself. \n",
        "\n"
      ],
      "metadata": {
        "id": "kBtGgLWYTPoX"
      }
    },
    {
      "cell_type": "code",
      "source": [
        "def priceAnalysis(stock):\n",
        "    stockPrices = requests.get(f\"https://financialmodelingprep.com/api/v3/historical-price-full/{stock}?from=2018-03-12&to=2022-03-12&apikey=e3d6bd835d72d3cfe6ca6ba12ed6893f\")\n",
        "    stockPrices = stockPrices.json()\n",
        "\n",
        "    stockPrices = stockPrices['historical'][-1200:]\n",
        "    #print(stockPrices)\n",
        "\n",
        "    stockPrices = pd.DataFrame.from_dict(stockPrices)\n",
        "    stockPrices = stockPrices.set_index('date')\n",
        "\n",
        "    stockPrices['20d'] = stockPrices['close'].rolling(20).mean()\n",
        "    stockPrices['250d'] = stockPrices['close'].rolling(250).mean()\n",
        "\n",
        "\n",
        "    stockPrices[['close','20d','250d']].plot(figsize=(12,5))\n",
        "    plt.grid(True)\n",
        "    plt.title(stock + ' Moving Averages')\n",
        "    plt.axis('tight')\n",
        "    plt.ylabel('Price')\n",
        "\n",
        "    print(stockPrices)\n"
      ],
      "metadata": {
        "id": "3DA7yvhdix8y"
      },
      "execution_count": null,
      "outputs": []
    },
    {
      "cell_type": "markdown",
      "source": [
        "\n",
        "\n",
        "> This shows the stock growth with respect to short term and long term investments. \n",
        "\n"
      ],
      "metadata": {
        "id": "245VEfznTgKG"
      }
    },
    {
      "cell_type": "code",
      "source": [
        "def growthAnalysis(stock):\n",
        "    stockGrowth = requests.get(f\"https://financialmodelingprep.com/api/v3/balance-sheet-statement-growth/{stock}?limit=40&apikey=e3d6bd835d72d3cfe6ca6ba12ed6893f\")\n",
        "    stockGrowth = stockGrowth.json()\n",
        "\n",
        "    stockGrowth = stockGrowth[-1200:]\n",
        "    #print(stockPrices)\n",
        "\n",
        "    stockGrowth = pd.DataFrame.from_dict(stockGrowth)\n",
        "    stockGrowth = stockGrowth.set_index('date')\n",
        "\n",
        "\n",
        "    stockGrowth[['growthShortTermInvestments','growthLongTermInvestments','growthTotalStockholdersEquity']].plot(figsize=(12,5))\n",
        "    plt.grid(True)\n",
        "    plt.title(stock + ' Stock Growth')\n",
        "    plt.axis('tight')\n",
        "    plt.ylabel('Price')\n",
        "\n",
        "    print(stockGrowth)"
      ],
      "metadata": {
        "id": "_4MMofTU3zFr"
      },
      "execution_count": null,
      "outputs": []
    },
    {
      "cell_type": "markdown",
      "source": [
        "\n",
        "\n",
        "> This shows the performance of the stock\n",
        "\n"
      ],
      "metadata": {
        "id": "vJ4_eHm0UfDo"
      }
    },
    {
      "cell_type": "code",
      "source": [
        "def performanceAnalysis(stock):\n",
        "    stockPerformance = requests.get(f\"https://financialmodelingprep.com/api/v4/institutional-ownership/institutional-holders/symbol-ownership-percent?date=2021-09-30&symbol={stock}&page=0&apikey=e3d6bd835d72d3cfe6ca6ba12ed6893f\")\n",
        "    stockPerformance = stockPerformance.json()\n",
        "\n",
        "    stockPerformance = pd.DataFrame.from_dict(stockPerformance)\n",
        "    stockPerformance = stockPerformance.set_index('firstAdded')\n",
        "\n",
        "    stockPerformance[['performance', 'lastPerformance']].plot(figsize=(12,5))\n",
        "    plt.grid(True)\n",
        "    plt.title(stock + ' Stock Performance')\n",
        "    plt.axis('tight')\n",
        "    plt.ylabel('Price')\n",
        "\n",
        "    print(stockPerformance)"
      ],
      "metadata": {
        "id": "Jt8WB1prauKg"
      },
      "execution_count": null,
      "outputs": []
    },
    {
      "cell_type": "markdown",
      "source": [
        "# Visualize Definitions"
      ],
      "metadata": {
        "id": "m3E39essUi7M"
      }
    },
    {
      "cell_type": "code",
      "source": [
        "priceAnalysis('AAPL')"
      ],
      "metadata": {
        "id": "qI1_MGofoguQ",
        "colab": {
          "base_uri": "https://localhost:8080/",
          "height": 1000
        },
        "outputId": "0d6a3ee7-b643-4134-abb4-c1fca0e0b6e6"
      },
      "execution_count": null,
      "outputs": [
        {
          "output_type": "stream",
          "name": "stdout",
          "text": [
            "                  open        high         low       close    adjClose  \\\n",
            "date                                                                     \n",
            "2022-03-11  158.929993  159.279999  154.500000  154.729996  154.033157   \n",
            "2022-03-10  160.199997  160.389999  155.979996  158.520004  157.806107   \n",
            "2022-03-09  161.479996  163.410004  159.410004  162.949997  162.216141   \n",
            "2022-03-08  158.820007  162.880005  155.800003  157.440002  156.730942   \n",
            "2022-03-07  163.360001  165.020004  159.039993  159.300003  158.582596   \n",
            "...                ...         ...         ...         ...         ...   \n",
            "2018-03-16   44.662498   44.779999   44.404999   44.505001   42.492321   \n",
            "2018-03-15   44.625000   45.060001   44.517502   44.662498   42.642719   \n",
            "2018-03-14   45.080002   45.130001   44.452499   44.610001   42.592590   \n",
            "2018-03-13   45.647499   45.875000   44.810001   44.992500   42.957790   \n",
            "2018-03-12   45.072498   45.597500   45.052502   45.430000   43.375504   \n",
            "\n",
            "                 volume  unadjustedVolume   change  changePercent       vwap  \\\n",
            "date                                                                           \n",
            "2022-03-11   96970100.0        96970100.0 -4.89684         -3.081  155.93772   \n",
            "2022-03-10  105342000.0       105342000.0 -2.39389         -1.494  158.05870   \n",
            "2022-03-09   91454900.0        91454900.0  0.73615          0.456  161.67872   \n",
            "2022-03-08  131148300.0       131148300.0 -2.08907         -1.315  158.47032   \n",
            "2022-03-07   96418800.0        96418800.0 -4.77740         -2.924  160.88086   \n",
            "...                 ...               ...      ...            ...        ...   \n",
            "2018-03-16  157618800.0       157618800.0 -2.17018         -4.859   43.89244   \n",
            "2018-03-15   90975200.0        90975200.0 -1.98228         -4.442   44.07341   \n",
            "2018-03-14  117473600.0       117473600.0 -2.48741         -5.518   44.05836   \n",
            "2018-03-13  126774000.0       126774000.0 -2.68971         -5.892   44.54760   \n",
            "2018-03-12  128828400.0       128828400.0 -1.69699         -3.765   44.67517   \n",
            "\n",
            "                   label  changeOverTime        20d      250d  \n",
            "date                                                           \n",
            "2022-03-11  March 11, 22        -0.03081        NaN       NaN  \n",
            "2022-03-10  March 10, 22        -0.01494        NaN       NaN  \n",
            "2022-03-09  March 09, 22         0.00456        NaN       NaN  \n",
            "2022-03-08  March 08, 22        -0.01315        NaN       NaN  \n",
            "2022-03-07  March 07, 22        -0.02924        NaN       NaN  \n",
            "...                  ...             ...        ...       ...  \n",
            "2018-03-16  March 16, 18        -0.04859  42.768250  46.92958  \n",
            "2018-03-15  March 15, 18        -0.04442  42.817250  46.92450  \n",
            "2018-03-14  March 14, 18        -0.05518  42.871000  46.92123  \n",
            "2018-03-13  March 13, 18        -0.05892  42.965125  46.92029  \n",
            "2018-03-12  March 12, 18        -0.03765  43.071000  46.92311  \n",
            "\n",
            "[1009 rows x 14 columns]\n"
          ]
        },
        {
          "output_type": "display_data",
          "data": {
            "text/plain": [
              "<Figure size 864x360 with 1 Axes>"
            ],
            "image/png": "[encoded data removed]"
          },
          "metadata": {
            "needs_background": "light"
          }
        }
      ]
    },
    {
      "cell_type": "code",
      "source": [
        "growthAnalysis('AAPL')"
      ],
      "metadata": {
        "id": "PHltHdTo4_OO",
        "colab": {
          "base_uri": "https://localhost:8080/",
          "height": 1000
        },
        "outputId": "54263f8e-bdb1-4e68-a4ee-682aaf43e9bc"
      },
      "execution_count": null,
      "outputs": [
        {
          "output_type": "stream",
          "name": "stdout",
          "text": [
            "           symbol period  growthCashAndCashEquivalents  \\\n",
            "date                                                     \n",
            "2022-09-24   AAPL     FY                     -0.323240   \n",
            "2021-09-25   AAPL     FY                     -0.080913   \n",
            "2020-09-26   AAPL     FY                     -0.221685   \n",
            "2019-09-28   AAPL     FY                      0.884923   \n",
            "2018-09-29   AAPL     FY                      0.277195   \n",
            "\n",
            "            growthShortTermInvestments  growthCashAndShortTermInvestments  \\\n",
            "date                                                                        \n",
            "2022-09-24                   -0.109787                          -0.228851   \n",
            "2021-09-25                   -0.476657                          -0.311228   \n",
            "2020-09-26                    0.023476                          -0.095607   \n",
            "2019-09-28                    0.280405                           0.516674   \n",
            "2018-09-29                   -0.250575                          -0.106227   \n",
            "\n",
            "            growthNetReceivables  growthInventory  growthOtherCurrentAssets  \\\n",
            "date                                                                          \n",
            "2022-09-24              0.183008        -0.248328                  0.504004   \n",
            "2021-09-25              0.375511         0.620291                  0.252752   \n",
            "2020-09-26             -0.182495        -0.010960                 -0.088083   \n",
            "2019-09-28             -0.065129         0.037917                  0.021924   \n",
            "2018-09-29              0.373448        -0.185170                 -0.132678   \n",
            "\n",
            "            growthTotalCurrentAssets  growthPropertyPlantEquipmentNet  ...  \\\n",
            "date                                                                   ...   \n",
            "2022-09-24                  0.004220                         0.067875  ...   \n",
            "2021-09-25                 -0.061769                         0.072730  ...   \n",
            "2020-09-26                 -0.117345                        -0.016373  ...   \n",
            "2019-09-28                  0.239685                        -0.095051  ...   \n",
            "2018-09-29                  0.020941                         0.222627  ...   \n",
            "\n",
            "            growthTotalLiabilities  growthCommonStock  growthRetainedEarnings  \\\n",
            "date                                                                            \n",
            "2022-09-24                0.049220           0.130463               -1.551600   \n",
            "2021-09-25                0.113568           0.129699               -0.628358   \n",
            "2020-09-26                0.042419           0.124076               -0.673929   \n",
            "2019-09-28               -0.040800           0.123703               -0.348040   \n",
            "2018-09-29                0.071728           0.120835               -0.284044   \n",
            "\n",
            "            growthAccumulatedOtherComprehensiveIncomeLoss  \\\n",
            "date                                                        \n",
            "2022-09-24                                     -69.153374   \n",
            "2021-09-25                                       1.401478   \n",
            "2020-09-26                                       0.304795   \n",
            "2019-09-28                                       0.830921   \n",
            "2018-09-29                                     -22.026667   \n",
            "\n",
            "            growthOthertotalStockholdersEquity  growthTotalStockholdersEquity  \\\n",
            "date                                                                            \n",
            "2022-09-24                                 0.0                      -0.196830   \n",
            "2021-09-25                                 0.0                      -0.034420   \n",
            "2020-09-26                                 0.0                      -0.277926   \n",
            "2019-09-28                                 0.0                      -0.155478   \n",
            "2018-09-29                                 0.0                      -0.200676   \n",
            "\n",
            "            growthTotalLiabilitiesAndStockholdersEquity  \\\n",
            "date                                                      \n",
            "2022-09-24                                     0.004994   \n",
            "2021-09-25                                     0.083714   \n",
            "2020-09-26                                    -0.043212   \n",
            "2019-09-28                                    -0.074397   \n",
            "2018-09-29                                    -0.025562   \n",
            "\n",
            "            growthTotalInvestments  growthTotalDebt  growthNetDebt  \n",
            "date                                                                \n",
            "2022-09-24               -0.065004        -0.037284       0.074004  \n",
            "2021-09-25                0.011455         0.109244       0.206383  \n",
            "2020-09-26               -0.020630         0.040621       0.257031  \n",
            "2019-09-28               -0.256327        -0.056218      -0.331568  \n",
            "2018-09-29               -0.150515        -0.010348      -0.071506  \n",
            "\n",
            "[5 rows x 41 columns]\n"
          ]
        },
        {
          "output_type": "display_data",
          "data": {
            "text/plain": [
              "<Figure size 864x360 with 1 Axes>"
            ],
            "image/png": "[encoded data removed]"
          },
          "metadata": {
            "needs_background": "light"
          }
        }
      ]
    },
    {
      "cell_type": "code",
      "source": [
        "performanceAnalysis('AAPL')"
      ],
      "metadata": {
        "id": "x6FgyEUubEdk",
        "colab": {
          "base_uri": "https://localhost:8080/",
          "height": 1000
        },
        "outputId": "c6d102b6-0c44-467b-b1f0-f9a64dd80a45"
      },
      "execution_count": null,
      "outputs": [
        {
          "output_type": "stream",
          "name": "stdout",
          "text": [
            "                  date         cik  filingDate  \\\n",
            "firstAdded                                       \n",
            "2013-12-31  2021-09-30  0000102909  2021-11-12   \n",
            "2013-12-31  2021-09-30  0001364742  2021-09-30   \n",
            "2016-03-31  2021-09-30  0001067983  2021-11-15   \n",
            "2015-12-31  2021-09-30  0000093751  2021-11-15   \n",
            "2013-12-31  2021-09-30  0000315066  2022-02-14   \n",
            "2013-12-31  2021-09-30  0001214717  2021-11-12   \n",
            "2013-12-31  2021-09-30  0000073124  2021-11-11   \n",
            "2013-12-31  2021-09-30  0000080255  2021-11-15   \n",
            "2012-12-31  2021-09-30  0001390777  2021-11-18   \n",
            "2013-03-31  2021-09-30  0001374170  2022-11-14   \n",
            "2013-12-31  2021-09-30  0000070858  2021-11-15   \n",
            "2013-12-31  2021-09-30  0000895421  2021-11-15   \n",
            "2013-12-31  2021-09-30  0000019617  2021-11-12   \n",
            "2013-12-31  2021-09-30  0000764068  2021-11-15   \n",
            "2013-12-31  2021-09-30  0001521019  2021-11-12   \n",
            "2013-12-31  2021-09-30  0000072971  2021-11-15   \n",
            "2013-12-31  2021-09-30  0000884546  2021-11-15   \n",
            "2013-12-31  2021-09-30  0000886982  2022-01-20   \n",
            "2013-12-31  2021-09-30  0000861177  2021-11-15   \n",
            "2013-12-31  2021-09-30  0001582202  2021-11-08   \n",
            "2013-12-31  2021-09-30  0000902219  2021-11-15   \n",
            "2013-12-31  2021-09-30  0001000275  2021-11-12   \n",
            "2013-12-31  2021-09-30  0000850529  2021-10-26   \n",
            "2013-12-31  2021-09-30  0001446194  2021-11-15   \n",
            "2013-12-31  2021-09-30  0000932859  2021-11-15   \n",
            "2013-12-31  2021-09-30  0001274173  2021-11-15   \n",
            "2013-12-31  2021-09-30  0001475365  2021-10-25   \n",
            "2013-12-31  2021-09-30  0000354204  2021-11-12   \n",
            "2013-12-31  2021-09-30  0000948046  2021-11-04   \n",
            "2013-12-31  2021-09-30  0000820027  2021-11-15   \n",
            "2014-12-31  2021-09-30  0001610520  2021-11-12   \n",
            "2013-12-31  2021-09-30  0000053417  2021-11-09   \n",
            "2013-12-31  2021-09-30  0001446194  2021-11-15   \n",
            "2014-09-30  2021-09-30  0000927971  2021-11-12   \n",
            "2013-12-31  2021-09-30  0000312069  2021-11-09   \n",
            "2013-12-31  2021-09-30  0001109448  2021-11-10   \n",
            "2013-12-31  2021-09-30  0000748054  2021-11-10   \n",
            "2013-12-31  2021-09-30  0000914208  2021-11-15   \n",
            "2013-12-31  2021-09-30  0000873630  2021-11-12   \n",
            "2016-09-30  2021-09-30  0001423053  2021-11-15   \n",
            "2018-12-31  2021-09-30  0001759760  2021-11-15   \n",
            "2013-12-31  2021-09-30  0000919079  2021-11-10   \n",
            "2021-06-30  2021-09-30  0001330387  2021-11-15   \n",
            "2013-12-31  2021-09-30  0000912938  2021-11-10   \n",
            "2016-09-30  2021-09-30  0001423053  2021-11-15   \n",
            "2014-09-30  2021-09-30  0001595888  2021-11-15   \n",
            "2013-12-31  2021-09-30  0000810265  2021-11-02   \n",
            "2013-12-31  2021-09-30  0001348883  2021-11-11   \n",
            "2013-12-31  2021-09-30  0001081019  2021-11-15   \n",
            "2014-03-31  2021-09-30  0000315032  2021-11-03   \n",
            "\n",
            "                                             investorName symbol  \\\n",
            "firstAdded                                                         \n",
            "2013-12-31                             VANGUARD GROUP INC   AAPL   \n",
            "2013-12-31                                 BLACKROCK INC.   AAPL   \n",
            "2016-03-31                         BERKSHIRE HATHAWAY INC   AAPL   \n",
            "2015-12-31                              STATE STREET CORP   AAPL   \n",
            "2013-12-31                                        FMR LLC   AAPL   \n",
            "2013-12-31                  GEODE CAPITAL MANAGEMENT, LLC   AAPL   \n",
            "2013-12-31                            NORTHERN TRUST CORP   AAPL   \n",
            "2013-12-31               PRICE T ROWE ASSOCIATES INC /MD/   AAPL   \n",
            "2012-12-31                   BANK OF NEW YORK MELLON CORP   AAPL   \n",
            "2013-03-31                                    NORGES BANK   AAPL   \n",
            "2013-12-31                      BANK OF AMERICA CORP /DE/   AAPL   \n",
            "2013-12-31                                 MORGAN STANLEY   AAPL   \n",
            "2013-12-31                            JPMORGAN CHASE & CO   AAPL   \n",
            "2013-12-31                      LEGAL & GENERAL GROUP PLC   AAPL   \n",
            "2013-12-31                   NUVEEN ASSET MANAGEMENT, LLC   AAPL   \n",
            "2013-12-31                       WELLS FARGO & COMPANY/MN   AAPL   \n",
            "2013-12-31       CHARLES SCHWAB INVESTMENT MANAGEMENT INC   AAPL   \n",
            "2013-12-31                        GOLDMAN SACHS GROUP INC   AAPL   \n",
            "2013-12-31              UBS ASSET MANAGEMENT AMERICAS INC   AAPL   \n",
            "2013-12-31                            SWISS NATIONAL BANK   AAPL   \n",
            "2013-12-31                   WELLINGTON MANAGEMENT CO LLP   AAPL   \n",
            "2013-12-31                           ROYAL BANK OF CANADA   AAPL   \n",
            "2013-12-31                   FISHER ASSET MANAGEMENT, LLC   AAPL   \n",
            "2013-12-31           SUSQUEHANNA INTERNATIONAL GROUP, LLP   AAPL   \n",
            "2013-12-31            PARAMETRIC PORTFOLIO ASSOCIATES LLC   AAPL   \n",
            "2013-12-31                      JANUS HENDERSON GROUP PLC   AAPL   \n",
            "2013-12-31           SUMITOMO MITSUI TRUST HOLDINGS, INC.   AAPL   \n",
            "2013-12-31                   DIMENSIONAL FUND ADVISORS LP   AAPL   \n",
            "2013-12-31                              DEUTSCHE BANK AG\\   AAPL   \n",
            "2013-12-31                       AMERIPRISE FINANCIAL INC   AAPL   \n",
            "2014-12-31                                   UBS GROUP AG   AAPL   \n",
            "2013-12-31                        JENNISON ASSOCIATES LLC   AAPL   \n",
            "2013-12-31           SUSQUEHANNA INTERNATIONAL GROUP, LLP   AAPL   \n",
            "2014-09-30                         BANK OF MONTREAL /CAN/   AAPL   \n",
            "2013-12-31                                   BARCLAYS PLC   AAPL   \n",
            "2013-12-31                         ALLIANCEBERNSTEIN L.P.   AAPL   \n",
            "2013-12-31                 AMERICAN CENTURY COMPANIES INC   AAPL   \n",
            "2013-12-31                                   INVESCO LTD.   AAPL   \n",
            "2013-12-31                              HSBC HOLDINGS PLC   AAPL   \n",
            "2016-09-30                           CITADEL ADVISORS LLC   AAPL   \n",
            "2018-12-31              H&H INTERNATIONAL INVESTMENT, LLC   AAPL   \n",
            "2013-12-31  CALIFORNIA PUBLIC EMPLOYEES RETIREMENT SYSTEM   AAPL   \n",
            "2021-06-30                                         AMUNDI   AAPL   \n",
            "2013-12-31       MASSACHUSETTS FINANCIAL SERVICES CO /MA/   AAPL   \n",
            "2016-09-30                           CITADEL ADVISORS LLC   AAPL   \n",
            "2014-09-30                         JANE STREET GROUP, LLC   AAPL   \n",
            "2013-12-31          NEW YORK STATE COMMON RETIREMENT FUND   AAPL   \n",
            "2013-12-31                   CLEARBRIDGE INVESTMENTS, LLC   AAPL   \n",
            "2013-12-31    CALIFORNIA STATE TEACHERS RETIREMENT SYSTEM   AAPL   \n",
            "2014-03-31      STATE FARM MUTUAL AUTOMOBILE INSURANCE CO   AAPL   \n",
            "\n",
            "             securityName typeOfSecurity securityCusip sharesType  \\\n",
            "firstAdded                                                          \n",
            "2013-12-31      APPLE INC            COM     037833100         SH   \n",
            "2013-12-31      APPLE INC            COM     037833100         SH   \n",
            "2016-03-31      APPLE INC            COM     037833100         SH   \n",
            "2015-12-31      APPLE INC            COM     037833100         SH   \n",
            "2013-12-31      APPLE INC            COM     037833100         SH   \n",
            "2013-12-31      APPLE INC            COM     037833100         SH   \n",
            "2013-12-31      APPLE INC            COM     037833100         SH   \n",
            "2013-12-31      APPLE INC       COMM STK     037833100         SH   \n",
            "2012-12-31      APPLE INC            COM     037833100         SH   \n",
            "2013-03-31      APPLE INC            COM     037833100         SH   \n",
            "2013-12-31      APPLE INC            COM     037833100         SH   \n",
            "2013-12-31      APPLE INC            COM     037833100         SH   \n",
            "2013-12-31      APPLE INC         COMMON     037833100         SH   \n",
            "2013-12-31      APPLE INC            COM     037833100         SH   \n",
            "2013-12-31      APPLE INC            COM     037833100         SH   \n",
            "2013-12-31      APPLE INC            COM     037833100         SH   \n",
            "2013-12-31      APPLE INC            COM     037833100         SH   \n",
            "2013-12-31      APPLE INC            CMN     037833100         SH   \n",
            "2013-12-31      APPLE INC   EQUITY US CM     037833100         SH   \n",
            "2013-12-31      APPLE INC            COM     037833100         SH   \n",
            "2013-12-31      APPLE INC            COM     037833100         SH   \n",
            "2013-12-31      APPLE INC            COM     037833100         SH   \n",
            "2013-12-31      APPLE INC            COM     037833100         SH   \n",
            "2013-12-31      APPLE INC            COM     037833100         SH   \n",
            "2013-12-31  APPLE INC COM   Common Stock     037833100         SH   \n",
            "2013-12-31      APPLE INC            COM     037833100         SH   \n",
            "2013-12-31      APPLE INC            COM     037833100         SH   \n",
            "2013-12-31      APPLE INC            COM     037833100         SH   \n",
            "2013-12-31      APPLE INC            COM     037833100         SH   \n",
            "2013-12-31      APPLE INC            COM     037833100         SH   \n",
            "2014-12-31      APPLE INC            COM     037833100         SH   \n",
            "2013-12-31      APPLE INC            COM     037833100         SH   \n",
            "2013-12-31      APPLE INC            COM     037833100         SH   \n",
            "2014-09-30      APPLE INC            COM     037833100         SH   \n",
            "2013-12-31      APPLE INC            COM     037833100         SH   \n",
            "2013-12-31      APPLE INC            COM     037833100         SH   \n",
            "2013-12-31      APPLE INC            COM     037833100         SH   \n",
            "2013-12-31      APPLE INC            COM     037833100         SH   \n",
            "2013-12-31      APPLE INC            COM     037833100         SH   \n",
            "2016-09-30      APPLE INC            Cmn     037833100         SH   \n",
            "2018-12-31      APPLE INC            COM     037833100         SH   \n",
            "2013-12-31      APPLE INC            COM     037833100         SH   \n",
            "2021-06-30      APPLE INC            COM     037833100         SH   \n",
            "2013-12-31      APPLE INC            COM     037833100         SH   \n",
            "2016-09-30      APPLE INC            Cmn     037833100         SH   \n",
            "2014-09-30      APPLE INC            COM     037833100         SH   \n",
            "2013-12-31      APPLE INC   Common Stock     037833100         SH   \n",
            "2013-12-31      Apple Inc            COM     037833100         SH   \n",
            "2013-12-31      APPLE INC   COMMON STOCK     037833100         SH   \n",
            "2014-03-31      APPLE INC            COM     037833100         SH   \n",
            "\n",
            "           putCallShare  ... ownership lastOwnership  changeInOwnership  \\\n",
            "firstAdded               ...                                              \n",
            "2013-12-31        Share  ...    7.5087        7.5376            -0.0289   \n",
            "2013-12-31        Share  ...    6.0850        6.1299            -0.0449   \n",
            "2016-03-31        Share  ...    5.2602        5.2863            -0.0261   \n",
            "2015-12-31        Share  ...    3.6891        3.7099            -0.0208   \n",
            "2013-12-31        Share  ...    2.0790        2.0884            -0.0094   \n",
            "2013-12-31        Share  ...    1.5410        1.5145             0.0265   \n",
            "2013-12-31        Share  ...    1.1582        1.1516             0.0066   \n",
            "2013-12-31        Share  ...    1.1176        1.1483            -0.0306   \n",
            "2012-12-31        Share  ...    0.8858        0.9172            -0.0315   \n",
            "2013-03-31        Share  ...    0.8666        0.9043            -0.0377   \n",
            "2013-12-31        Share  ...    0.8042        0.7738             0.0303   \n",
            "2013-12-31        Share  ...    0.7606        0.7500             0.0106   \n",
            "2013-12-31        Share  ...    0.7358        0.8378            -0.1020   \n",
            "2013-12-31        Share  ...    0.6381        0.6165             0.0215   \n",
            "2013-12-31        Share  ...    0.5251        0.5667            -0.0416   \n",
            "2013-12-31        Share  ...    0.4694        0.4782            -0.0088   \n",
            "2013-12-31        Share  ...    0.4643        0.4579             0.0064   \n",
            "2013-12-31        Share  ...    0.4139        0.4154            -0.0015   \n",
            "2013-12-31        Share  ...    0.4105        0.4080             0.0025   \n",
            "2013-12-31        Share  ...    0.3913        0.4079            -0.0167   \n",
            "2013-12-31        Share  ...    0.3795        0.3885            -0.0091   \n",
            "2013-12-31        Share  ...    0.3773        0.3747             0.0026   \n",
            "2013-12-31        Share  ...    0.3610        0.3865            -0.0255   \n",
            "2013-12-31         Call  ...    0.3286        0.3602            -0.0316   \n",
            "2013-12-31        Share  ...    0.3246        0.3300            -0.0055   \n",
            "2013-12-31        Share  ...    0.3187        0.3198            -0.0011   \n",
            "2013-12-31        Share  ...    0.3095        0.3290            -0.0194   \n",
            "2013-12-31        Share  ...    0.3014        0.3047            -0.0033   \n",
            "2013-12-31        Share  ...    0.2924        0.2899             0.0025   \n",
            "2013-12-31        Share  ...    0.2895        0.3056            -0.0162   \n",
            "2014-12-31        Share  ...    0.2887        0.2682             0.0205   \n",
            "2013-12-31        Share  ...    0.2872        0.2934            -0.0062   \n",
            "2013-12-31          Put  ...    0.2583        0.2683            -0.0100   \n",
            "2014-09-30        Share  ...    0.2502        0.2224             0.0278   \n",
            "2013-12-31        Share  ...    0.2486        0.2265             0.0221   \n",
            "2013-12-31        Share  ...    0.2268        0.2268             0.0001   \n",
            "2013-12-31        Share  ...    0.2198        0.2185             0.0014   \n",
            "2013-12-31        Share  ...    0.2197        0.2099             0.0098   \n",
            "2013-12-31        Share  ...    0.2129        0.2158            -0.0029   \n",
            "2016-09-30         Call  ...    0.2113        0.2341            -0.0228   \n",
            "2018-12-31        Share  ...    0.2094        0.2349            -0.0255   \n",
            "2013-12-31        Share  ...    0.2078        0.2099            -0.0022   \n",
            "2021-06-30        Share  ...    0.1946        0.2405            -0.0459   \n",
            "2013-12-31        Share  ...    0.1839        0.1510             0.0329   \n",
            "2016-09-30          Put  ...    0.1785        0.1656             0.0129   \n",
            "2014-09-30         Call  ...    0.1785        0.1735             0.0050   \n",
            "2013-12-31        Share  ...    0.1772        0.1850            -0.0078   \n",
            "2013-12-31        Share  ...    0.1745        0.1799            -0.0054   \n",
            "2013-12-31        Share  ...    0.1729        0.1737            -0.0008   \n",
            "2014-03-31        Share  ...    0.1635        0.2020            -0.0385   \n",
            "\n",
            "            changeInOwnershipPercentage  holdingPeriod   performance  \\\n",
            "firstAdded                                                             \n",
            "2013-12-31                      -0.3834             32  5.994507e+09   \n",
            "2013-12-31                      -0.7326             32  4.874979e+09   \n",
            "2016-03-31                      -0.4932             23  4.204117e+09   \n",
            "2015-12-31                      -0.5598             24  2.950393e+09   \n",
            "2013-12-31                      -0.4493             32  1.660837e+09   \n",
            "2013-12-31                       1.7511             32  1.204471e+09   \n",
            "2013-12-31                       0.5719             32  9.158219e+08   \n",
            "2013-12-31                      -2.6657             32  9.131872e+08   \n",
            "2012-12-31                      -3.4335             36  7.294686e+08   \n",
            "2013-03-31                      -4.1677             35  7.191878e+08   \n",
            "2013-12-31                       3.9210             32  6.154079e+08   \n",
            "2013-12-31                       1.4196             32  5.964465e+08   \n",
            "2013-12-31                     -12.1758             32  6.663047e+08   \n",
            "2013-12-31                       3.4944             32  4.903250e+08   \n",
            "2013-12-31                      -7.3334             32  4.506910e+08   \n",
            "2013-12-31                      -1.8343             32  3.802896e+08   \n",
            "2013-12-31                       1.4008             32  3.641809e+08   \n",
            "2013-12-31                      -0.3527             32  3.303530e+08   \n",
            "2013-12-31                       0.6107             32  3.244548e+08   \n",
            "2013-12-31                      -4.0855             32  3.244087e+08   \n",
            "2013-12-31                      -2.3335             32  3.089923e+08   \n",
            "2013-12-31                       0.6897             32  2.980262e+08   \n",
            "2013-12-31                      -6.5905             32  3.073685e+08   \n",
            "2013-12-31                      -8.7647             32  0.000000e+00   \n",
            "2013-12-31                      -1.6558             32  2.624768e+08   \n",
            "2013-12-31                      -0.3381             32  2.543344e+08   \n",
            "2013-12-31                      -5.9099             32  2.616403e+08   \n",
            "2013-12-31                      -1.0809             32  2.423139e+08   \n",
            "2013-12-31                       0.8774             32  2.305248e+08   \n",
            "2013-12-31                      -5.2880             32  2.430697e+08   \n",
            "2014-12-31                       7.6375             28  2.133067e+08   \n",
            "2013-12-31                      -2.0969             32  2.333262e+08   \n",
            "2013-12-31                      -3.7341             32  0.000000e+00   \n",
            "2014-09-30                      12.5219             29  1.768362e+08   \n",
            "2013-12-31                       9.7394             32  1.801279e+08   \n",
            "2013-12-31                       0.0230             32  1.803514e+08   \n",
            "2013-12-31                       0.6327             32  1.737345e+08   \n",
            "2013-12-31                       4.6836             32  1.669009e+08   \n",
            "2013-12-31                      -1.3330             32  1.716217e+08   \n",
            "2016-09-30                      -9.7444             21  0.000000e+00   \n",
            "2018-12-31                     -10.8484             12  1.867821e+08   \n",
            "2013-12-31                      -1.0388             32  1.669669e+08   \n",
            "2021-06-30                     -19.1022              2  1.912838e+08   \n",
            "2013-12-31                      21.8145             32  1.200733e+08   \n",
            "2016-09-30                       7.8169             21  0.000000e+00   \n",
            "2014-09-30                       2.8752             29  0.000000e+00   \n",
            "2013-12-31                      -4.2318             32  1.471494e+08   \n",
            "2013-12-31                      -3.0144             32  1.430874e+08   \n",
            "2013-12-31                      -0.4494             32  1.381603e+08   \n",
            "2014-03-31                     -19.0577             31  1.606250e+08   \n",
            "\n",
            "            performancePercentage  lastPerformance  changeInPerformance  \\\n",
            "firstAdded                                                                \n",
            "2013-12-31                 3.4704     1.855565e+10        -1.256115e+10   \n",
            "2013-12-31                 3.4704     1.579522e+10        -1.092024e+10   \n",
            "2016-03-31                 3.4704     1.328192e+10        -9.077802e+09   \n",
            "2015-12-31                 3.4704     9.327277e+09        -6.376883e+09   \n",
            "2013-12-31                 3.4704     5.164517e+09        -3.503680e+09   \n",
            "2013-12-31                 3.4704     3.740022e+09        -2.535552e+09   \n",
            "2013-12-31                 3.4704     2.977375e+09        -2.061553e+09   \n",
            "2013-12-31                 3.4704     3.002608e+09        -2.089421e+09   \n",
            "2012-12-31                 3.4704     2.316027e+09        -1.586558e+09   \n",
            "2013-03-31                 3.4704     2.384210e+09        -1.665023e+09   \n",
            "2013-12-31                 3.4704     2.245410e+09        -1.630002e+09   \n",
            "2013-12-31                 3.4704     1.832341e+09        -1.235895e+09   \n",
            "2013-12-31                 3.4704     1.907712e+09        -1.241407e+09   \n",
            "2013-12-31                 3.4704     1.494972e+09        -1.004647e+09   \n",
            "2013-12-31                 3.4704     1.615352e+09        -1.164661e+09   \n",
            "2013-12-31                 3.4704     1.242118e+09        -8.618282e+08   \n",
            "2013-12-31                 3.4704     1.137087e+09        -7.729065e+08   \n",
            "2013-12-31                 3.4704     1.022949e+09        -6.925962e+08   \n",
            "2013-12-31                 3.4704     1.053020e+09        -7.285653e+08   \n",
            "2013-12-31                 3.4704     9.821937e+08        -6.577850e+08   \n",
            "2013-12-31                 3.4704     1.030253e+09        -7.212608e+08   \n",
            "2013-12-31                 3.4704     9.230000e+08        -6.249738e+08   \n",
            "2013-12-31                 3.4704     9.404305e+08        -6.330620e+08   \n",
            "2013-12-31                 0.0000     0.000000e+00         0.000000e+00   \n",
            "2013-12-31                 3.4704     8.116307e+08        -5.491539e+08   \n",
            "2013-12-31                 3.4704     9.353767e+08        -6.810423e+08   \n",
            "2013-12-31                 3.4704     9.093659e+08        -6.477255e+08   \n",
            "2013-12-31                 3.4704     7.501917e+08        -5.078778e+08   \n",
            "2013-12-31                 3.4704     6.972294e+08        -4.667046e+08   \n",
            "2013-12-31                 3.4704     7.996955e+08        -5.566257e+08   \n",
            "2014-12-31                 3.4704     6.826291e+08        -4.693224e+08   \n",
            "2013-12-31                 3.4704     8.306179e+08        -5.972917e+08   \n",
            "2013-12-31                 0.0000     0.000000e+00         0.000000e+00   \n",
            "2014-09-30                 3.4704     5.847918e+08        -4.079556e+08   \n",
            "2013-12-31                 3.4704     4.985906e+08        -3.184627e+08   \n",
            "2013-12-31                 3.4704     5.809297e+08        -4.005783e+08   \n",
            "2013-12-31                 3.4704     5.736929e+08        -3.999584e+08   \n",
            "2013-12-31                 3.4704     4.923282e+08        -3.254273e+08   \n",
            "2013-12-31                 3.4704     4.662671e+08        -2.946455e+08   \n",
            "2016-09-30                 0.0000     0.000000e+00         0.000000e+00   \n",
            "2018-12-31                 3.4704     5.283240e+08        -3.415419e+08   \n",
            "2013-12-31                 3.4704     5.441067e+08        -3.771398e+08   \n",
            "2021-06-30                 3.4704     0.000000e+00         1.912838e+08   \n",
            "2013-12-31                 3.4704     3.904755e+08        -2.704022e+08   \n",
            "2016-09-30                 0.0000     0.000000e+00         0.000000e+00   \n",
            "2014-09-30                 0.0000     0.000000e+00         0.000000e+00   \n",
            "2013-12-31                 3.4704     4.837629e+08        -3.366135e+08   \n",
            "2013-12-31                 3.4704     4.608972e+08        -3.178098e+08   \n",
            "2013-12-31                 3.4704     4.674789e+08        -3.293185e+08   \n",
            "2014-03-31                 3.4704     5.057693e+08        -3.451443e+08   \n",
            "\n",
            "            isCountedForPerformance  \n",
            "firstAdded                           \n",
            "2013-12-31                     True  \n",
            "2013-12-31                     True  \n",
            "2016-03-31                     True  \n",
            "2015-12-31                     True  \n",
            "2013-12-31                     True  \n",
            "2013-12-31                     True  \n",
            "2013-12-31                     True  \n",
            "2013-12-31                     True  \n",
            "2012-12-31                     True  \n",
            "2013-03-31                     True  \n",
            "2013-12-31                     True  \n",
            "2013-12-31                     True  \n",
            "2013-12-31                     True  \n",
            "2013-12-31                     True  \n",
            "2013-12-31                     True  \n",
            "2013-12-31                     True  \n",
            "2013-12-31                     True  \n",
            "2013-12-31                     True  \n",
            "2013-12-31                     True  \n",
            "2013-12-31                     True  \n",
            "2013-12-31                     True  \n",
            "2013-12-31                     True  \n",
            "2013-12-31                     True  \n",
            "2013-12-31                    False  \n",
            "2013-12-31                     True  \n",
            "2013-12-31                     True  \n",
            "2013-12-31                     True  \n",
            "2013-12-31                     True  \n",
            "2013-12-31                     True  \n",
            "2013-12-31                     True  \n",
            "2014-12-31                     True  \n",
            "2013-12-31                     True  \n",
            "2013-12-31                    False  \n",
            "2014-09-30                     True  \n",
            "2013-12-31                     True  \n",
            "2013-12-31                     True  \n",
            "2013-12-31                     True  \n",
            "2013-12-31                     True  \n",
            "2013-12-31                     True  \n",
            "2016-09-30                    False  \n",
            "2018-12-31                     True  \n",
            "2013-12-31                     True  \n",
            "2021-06-30                     True  \n",
            "2013-12-31                     True  \n",
            "2016-09-30                    False  \n",
            "2014-09-30                    False  \n",
            "2013-12-31                     True  \n",
            "2013-12-31                     True  \n",
            "2013-12-31                     True  \n",
            "2014-03-31                     True  \n",
            "\n",
            "[50 rows x 38 columns]\n"
          ]
        },
        {
          "output_type": "display_data",
          "data": {
            "text/plain": [
              "<Figure size 864x360 with 1 Axes>"
            ],
            "image/png": "[encoded data removed]"
          },
          "metadata": {
            "needs_background": "light"
          }
        }
      ]
    },
    {
      "cell_type": "markdown",
      "source": [
        "What is interesting is you can see the price drop in 2013 after the Q1 earnings were released. And where other subsequent drops were recorded. "
      ],
      "metadata": {
        "id": "tDaH70CbVisE"
      }
    },
    {
      "cell_type": "markdown",
      "source": [
        "https://www.youtube.com/watch?v=JyU5qqPpg0E\n",
        "https://towardsdatascience.com/python-stock-analysis-balance-sheet-trend-analysis-18e6eb63cdc"
      ],
      "metadata": {
        "id": "NN6ZUHgXtDVT"
      }
    },
    {
      "cell_type": "markdown",
      "source": [
        "# **Stock Prediction Using TensorFlow**"
      ],
      "metadata": {
        "id": "GPwOJ16Iwjdo"
      }
    },
    {
      "cell_type": "markdown",
      "source": [
        "\n",
        "\n",
        "> Here is small exercise using TensorFlow to predict stock prices. I will say TensorFlow is not very sutable for stock prediction and this very basic model is not very effective. But it is a good test case for the technology. \n",
        "\n"
      ],
      "metadata": {
        "id": "ybXJILZ-UoTV"
      }
    },
    {
      "cell_type": "markdown",
      "source": [
        "# Imports"
      ],
      "metadata": {
        "id": "TLCfk48_VCUh"
      }
    },
    {
      "cell_type": "markdown",
      "source": [
        "https://colab.research.google.com/github/therealcyberlord/tensorflow_keras_stock_prediction/blob/master/Stock.ipynb#scrollTo=MykNcyYGwG4r"
      ],
      "metadata": {
        "id": "UqxzIPA28DBv"
      }
    },
    {
      "cell_type": "code",
      "source": [
        "from google.colab import drive\n",
        "import matplotlib.pyplot as plt \n",
        "from sklearn.preprocessing import MinMaxScaler\n",
        "from sklearn.model_selection import train_test_split\n",
        "from collections import deque\n",
        "import tensorflow as tf\n",
        "from tensorflow import keras \n",
        "import numpy as np\n",
        "from tensorflow.keras.layers import Dense, LSTM, Dropout, BatchNormalization \n",
        "from tensorflow.keras.models import Sequential\n",
        "from tensorflow.keras.callbacks import ModelCheckpoint\n",
        "from tensorflow.keras.callbacks import EarlyStopping"
      ],
      "metadata": {
        "id": "IH3EHH7S7VnT"
      },
      "execution_count": null,
      "outputs": []
    },
    {
      "cell_type": "markdown",
      "source": [
        "# Retrive the Data"
      ],
      "metadata": {
        "id": "GyAFjoY8VEgE"
      }
    },
    {
      "cell_type": "code",
      "source": [
        "drive.mount('/content/gdrive')"
      ],
      "metadata": {
        "id": "eNg_YYJw7WGp",
        "colab": {
          "base_uri": "https://localhost:8080/"
        },
        "outputId": "17abfe95-ed3b-4ff6-9401-6f6792f094ed"
      },
      "execution_count": null,
      "outputs": [
        {
          "output_type": "stream",
          "name": "stdout",
          "text": [
            "Mounted at /content/gdrive\n"
          ]
        }
      ]
    },
    {
      "cell_type": "code",
      "source": [
        "stockFile = open('/content/gdrive/MyDrive/AAPL.csv', 'rb')\n",
        "stockData = pd.read_csv(stockFile)"
      ],
      "metadata": {
        "id": "WFUtkbvc7ZBC"
      },
      "execution_count": null,
      "outputs": []
    },
    {
      "cell_type": "markdown",
      "source": [
        "Download and read the data"
      ],
      "metadata": {
        "id": "MFojM1cSQIuG"
      }
    },
    {
      "cell_type": "code",
      "source": [
        "stockData.dropna(inplace=True)\n",
        "stockData.drop('Adj Close', axis=1, inplace=True)\n",
        "stockData.head()"
      ],
      "metadata": {
        "id": "zHfLPE8676QZ",
        "colab": {
          "base_uri": "https://localhost:8080/",
          "height": 206
        },
        "outputId": "5b3113a9-2b22-4766-b177-d1e0a499a542"
      },
      "execution_count": null,
      "outputs": [
        {
          "output_type": "execute_result",
          "data": {
            "text/plain": [
              "         Date      Open      High       Low     Close     Volume\n",
              "0  1980-12-12  0.128348  0.128906  0.128348  0.128348  469033600\n",
              "1  1980-12-15  0.122210  0.122210  0.121652  0.121652  175884800\n",
              "2  1980-12-16  0.113281  0.113281  0.112723  0.112723  105728000\n",
              "3  1980-12-17  0.115513  0.116071  0.115513  0.115513   86441600\n",
              "4  1980-12-18  0.118862  0.119420  0.118862  0.118862   73449600"
            ],
            "text/html": [
              "\n",
              "  <div id=\"df-23a96893-1ee6-4d1e-a1b2-48b684af6b12\">\n",
              "    <div class=\"colab-df-container\">\n",
              "      <div>\n",
              "<style scoped>\n",
              "    .dataframe tbody tr th:only-of-type {\n",
              "        vertical-align: middle;\n",
              "    }\n",
              "\n",
              "    .dataframe tbody tr th {\n",
              "        vertical-align: top;\n",
              "    }\n",
              "\n",
              "    .dataframe thead th {\n",
              "        text-align: right;\n",
              "    }\n",
              "</style>\n",
              "<table border=\"1\" class=\"dataframe\">\n",
              "  <thead>\n",
              "    <tr style=\"text-align: right;\">\n",
              "      <th></th>\n",
              "      <th>Date</th>\n",
              "      <th>Open</th>\n",
              "      <th>High</th>\n",
              "      <th>Low</th>\n",
              "      <th>Close</th>\n",
              "      <th>Volume</th>\n",
              "    </tr>\n",
              "  </thead>\n",
              "  <tbody>\n",
              "    <tr>\n",
              "      <th>0</th>\n",
              "      <td>1980-12-12</td>\n",
              "      <td>0.128348</td>\n",
              "      <td>0.128906</td>\n",
              "      <td>0.128348</td>\n",
              "      <td>0.128348</td>\n",
              "      <td>469033600</td>\n",
              "    </tr>\n",
              "    <tr>\n",
              "      <th>1</th>\n",
              "      <td>1980-12-15</td>\n",
              "      <td>0.122210</td>\n",
              "      <td>0.122210</td>\n",
              "      <td>0.121652</td>\n",
              "      <td>0.121652</td>\n",
              "      <td>175884800</td>\n",
              "    </tr>\n",
              "    <tr>\n",
              "      <th>2</th>\n",
              "      <td>1980-12-16</td>\n",
              "      <td>0.113281</td>\n",
              "      <td>0.113281</td>\n",
              "      <td>0.112723</td>\n",
              "      <td>0.112723</td>\n",
              "      <td>105728000</td>\n",
              "    </tr>\n",
              "    <tr>\n",
              "      <th>3</th>\n",
              "      <td>1980-12-17</td>\n",
              "      <td>0.115513</td>\n",
              "      <td>0.116071</td>\n",
              "      <td>0.115513</td>\n",
              "      <td>0.115513</td>\n",
              "      <td>86441600</td>\n",
              "    </tr>\n",
              "    <tr>\n",
              "      <th>4</th>\n",
              "      <td>1980-12-18</td>\n",
              "      <td>0.118862</td>\n",
              "      <td>0.119420</td>\n",
              "      <td>0.118862</td>\n",
              "      <td>0.118862</td>\n",
              "      <td>73449600</td>\n",
              "    </tr>\n",
              "  </tbody>\n",
              "</table>\n",
              "</div>\n",
              "      <button class=\"colab-df-convert\" onclick=\"convertToInteractive('df-23a96893-1ee6-4d1e-a1b2-48b684af6b12')\"\n",
              "              title=\"Convert this dataframe to an interactive table.\"\n",
              "              style=\"display:none;\">\n",
              "        \n",
              "  <svg xmlns=\"http://www.w3.org/2000/svg\" height=\"24px\"viewBox=\"0 0 24 24\"\n",
              "       width=\"24px\">\n",
              "    <path d=\"M0 0h24v24H0V0z\" fill=\"none\"/>\n",
              "    <path d=\"M18.56 5.44l.94 2.06.94-2.06 2.06-.94-2.06-.94-.94-2.06-.94 2.06-2.06.94zm-11 1L8.5 8.5l.94-2.06 2.06-.94-2.06-.94L8.5 2.5l-.94 2.06-2.06.94zm10 10l.94 2.06.94-2.06 2.06-.94-2.06-.94-.94-2.06-.94 2.06-2.06.94z\"/><path d=\"M17.41 7.96l-1.37-1.37c-.4-.4-.92-.59-1.43-.59-.52 0-1.04.2-1.43.59L10.3 9.45l-7.72 7.72c-.78.78-.78 2.05 0 2.83L4 21.41c.39.39.9.59 1.41.59.51 0 1.02-.2 1.41-.59l7.78-7.78 2.81-2.81c.8-.78.8-2.07 0-2.86zM5.41 20L4 18.59l7.72-7.72 1.47 1.35L5.41 20z\"/>\n",
              "  </svg>\n",
              "      </button>\n",
              "      \n",
              "  <style>\n",
              "    .colab-df-container {\n",
              "      display:flex;\n",
              "      flex-wrap:wrap;\n",
              "      gap: 12px;\n",
              "    }\n",
              "\n",
              "    .colab-df-convert {\n",
              "      background-color: #E8F0FE;\n",
              "      border: none;\n",
              "      border-radius: 50%;\n",
              "      cursor: pointer;\n",
              "      display: none;\n",
              "      fill: #1967D2;\n",
              "      height: 32px;\n",
              "      padding: 0 0 0 0;\n",
              "      width: 32px;\n",
              "    }\n",
              "\n",
              "    .colab-df-convert:hover {\n",
              "      background-color: #E2EBFA;\n",
              "      box-shadow: 0px 1px 2px rgba(60, 64, 67, 0.3), 0px 1px 3px 1px rgba(60, 64, 67, 0.15);\n",
              "      fill: #174EA6;\n",
              "    }\n",
              "\n",
              "    [theme=dark] .colab-df-convert {\n",
              "      background-color: #3B4455;\n",
              "      fill: #D2E3FC;\n",
              "    }\n",
              "\n",
              "    [theme=dark] .colab-df-convert:hover {\n",
              "      background-color: #434B5C;\n",
              "      box-shadow: 0px 1px 3px 1px rgba(0, 0, 0, 0.15);\n",
              "      filter: drop-shadow(0px 1px 2px rgba(0, 0, 0, 0.3));\n",
              "      fill: #FFFFFF;\n",
              "    }\n",
              "  </style>\n",
              "\n",
              "      <script>\n",
              "        const buttonEl =\n",
              "          document.querySelector('#df-23a96893-1ee6-4d1e-a1b2-48b684af6b12 button.colab-df-convert');\n",
              "        buttonEl.style.display =\n",
              "          google.colab.kernel.accessAllowed ? 'block' : 'none';\n",
              "\n",
              "        async function convertToInteractive(key) {\n",
              "          const element = document.querySelector('#df-23a96893-1ee6-4d1e-a1b2-48b684af6b12');\n",
              "          const dataTable =\n",
              "            await google.colab.kernel.invokeFunction('convertToInteractive',\n",
              "                                                     [key], {});\n",
              "          if (!dataTable) return;\n",
              "\n",
              "          const docLinkHtml = 'Like what you see? Visit the ' +\n",
              "            '<a target=\"_blank\" href=https://colab.research.google.com/notebooks/data_table.ipynb>data table notebook</a>'\n",
              "            + ' to learn more about interactive tables.';\n",
              "          element.innerHTML = '';\n",
              "          dataTable['output_type'] = 'display_data';\n",
              "          await google.colab.output.renderOutput(dataTable, element);\n",
              "          const docLink = document.createElement('div');\n",
              "          docLink.innerHTML = docLinkHtml;\n",
              "          element.appendChild(docLink);\n",
              "        }\n",
              "      </script>\n",
              "    </div>\n",
              "  </div>\n",
              "  "
            ]
          },
          "metadata": {},
          "execution_count": 12
        }
      ]
    },
    {
      "cell_type": "code",
      "source": [
        "stockData.set_index('Date', inplace=True)\n",
        "stockData.head()"
      ],
      "metadata": {
        "id": "Dn8zRqPL78cR",
        "colab": {
          "base_uri": "https://localhost:8080/",
          "height": 238
        },
        "outputId": "2ea3f12e-296c-485c-cd8a-46d2ddfa40b9"
      },
      "execution_count": null,
      "outputs": [
        {
          "output_type": "execute_result",
          "data": {
            "text/plain": [
              "                Open      High       Low     Close     Volume\n",
              "Date                                                         \n",
              "1980-12-12  0.128348  0.128906  0.128348  0.128348  469033600\n",
              "1980-12-15  0.122210  0.122210  0.121652  0.121652  175884800\n",
              "1980-12-16  0.113281  0.113281  0.112723  0.112723  105728000\n",
              "1980-12-17  0.115513  0.116071  0.115513  0.115513   86441600\n",
              "1980-12-18  0.118862  0.119420  0.118862  0.118862   73449600"
            ],
            "text/html": [
              "\n",
              "  <div id=\"df-6e577b36-0563-4620-a651-0320fcce748a\">\n",
              "    <div class=\"colab-df-container\">\n",
              "      <div>\n",
              "<style scoped>\n",
              "    .dataframe tbody tr th:only-of-type {\n",
              "        vertical-align: middle;\n",
              "    }\n",
              "\n",
              "    .dataframe tbody tr th {\n",
              "        vertical-align: top;\n",
              "    }\n",
              "\n",
              "    .dataframe thead th {\n",
              "        text-align: right;\n",
              "    }\n",
              "</style>\n",
              "<table border=\"1\" class=\"dataframe\">\n",
              "  <thead>\n",
              "    <tr style=\"text-align: right;\">\n",
              "      <th></th>\n",
              "      <th>Open</th>\n",
              "      <th>High</th>\n",
              "      <th>Low</th>\n",
              "      <th>Close</th>\n",
              "      <th>Volume</th>\n",
              "    </tr>\n",
              "    <tr>\n",
              "      <th>Date</th>\n",
              "      <th></th>\n",
              "      <th></th>\n",
              "      <th></th>\n",
              "      <th></th>\n",
              "      <th></th>\n",
              "    </tr>\n",
              "  </thead>\n",
              "  <tbody>\n",
              "    <tr>\n",
              "      <th>1980-12-12</th>\n",
              "      <td>0.128348</td>\n",
              "      <td>0.128906</td>\n",
              "      <td>0.128348</td>\n",
              "      <td>0.128348</td>\n",
              "      <td>469033600</td>\n",
              "    </tr>\n",
              "    <tr>\n",
              "      <th>1980-12-15</th>\n",
              "      <td>0.122210</td>\n",
              "      <td>0.122210</td>\n",
              "      <td>0.121652</td>\n",
              "      <td>0.121652</td>\n",
              "      <td>175884800</td>\n",
              "    </tr>\n",
              "    <tr>\n",
              "      <th>1980-12-16</th>\n",
              "      <td>0.113281</td>\n",
              "      <td>0.113281</td>\n",
              "      <td>0.112723</td>\n",
              "      <td>0.112723</td>\n",
              "      <td>105728000</td>\n",
              "    </tr>\n",
              "    <tr>\n",
              "      <th>1980-12-17</th>\n",
              "      <td>0.115513</td>\n",
              "      <td>0.116071</td>\n",
              "      <td>0.115513</td>\n",
              "      <td>0.115513</td>\n",
              "      <td>86441600</td>\n",
              "    </tr>\n",
              "    <tr>\n",
              "      <th>1980-12-18</th>\n",
              "      <td>0.118862</td>\n",
              "      <td>0.119420</td>\n",
              "      <td>0.118862</td>\n",
              "      <td>0.118862</td>\n",
              "      <td>73449600</td>\n",
              "    </tr>\n",
              "  </tbody>\n",
              "</table>\n",
              "</div>\n",
              "      <button class=\"colab-df-convert\" onclick=\"convertToInteractive('df-6e577b36-0563-4620-a651-0320fcce748a')\"\n",
              "              title=\"Convert this dataframe to an interactive table.\"\n",
              "              style=\"display:none;\">\n",
              "        \n",
              "  <svg xmlns=\"http://www.w3.org/2000/svg\" height=\"24px\"viewBox=\"0 0 24 24\"\n",
              "       width=\"24px\">\n",
              "    <path d=\"M0 0h24v24H0V0z\" fill=\"none\"/>\n",
              "    <path d=\"M18.56 5.44l.94 2.06.94-2.06 2.06-.94-2.06-.94-.94-2.06-.94 2.06-2.06.94zm-11 1L8.5 8.5l.94-2.06 2.06-.94-2.06-.94L8.5 2.5l-.94 2.06-2.06.94zm10 10l.94 2.06.94-2.06 2.06-.94-2.06-.94-.94-2.06-.94 2.06-2.06.94z\"/><path d=\"M17.41 7.96l-1.37-1.37c-.4-.4-.92-.59-1.43-.59-.52 0-1.04.2-1.43.59L10.3 9.45l-7.72 7.72c-.78.78-.78 2.05 0 2.83L4 21.41c.39.39.9.59 1.41.59.51 0 1.02-.2 1.41-.59l7.78-7.78 2.81-2.81c.8-.78.8-2.07 0-2.86zM5.41 20L4 18.59l7.72-7.72 1.47 1.35L5.41 20z\"/>\n",
              "  </svg>\n",
              "      </button>\n",
              "      \n",
              "  <style>\n",
              "    .colab-df-container {\n",
              "      display:flex;\n",
              "      flex-wrap:wrap;\n",
              "      gap: 12px;\n",
              "    }\n",
              "\n",
              "    .colab-df-convert {\n",
              "      background-color: #E8F0FE;\n",
              "      border: none;\n",
              "      border-radius: 50%;\n",
              "      cursor: pointer;\n",
              "      display: none;\n",
              "      fill: #1967D2;\n",
              "      height: 32px;\n",
              "      padding: 0 0 0 0;\n",
              "      width: 32px;\n",
              "    }\n",
              "\n",
              "    .colab-df-convert:hover {\n",
              "      background-color: #E2EBFA;\n",
              "      box-shadow: 0px 1px 2px rgba(60, 64, 67, 0.3), 0px 1px 3px 1px rgba(60, 64, 67, 0.15);\n",
              "      fill: #174EA6;\n",
              "    }\n",
              "\n",
              "    [theme=dark] .colab-df-convert {\n",
              "      background-color: #3B4455;\n",
              "      fill: #D2E3FC;\n",
              "    }\n",
              "\n",
              "    [theme=dark] .colab-df-convert:hover {\n",
              "      background-color: #434B5C;\n",
              "      box-shadow: 0px 1px 3px 1px rgba(0, 0, 0, 0.15);\n",
              "      filter: drop-shadow(0px 1px 2px rgba(0, 0, 0, 0.3));\n",
              "      fill: #FFFFFF;\n",
              "    }\n",
              "  </style>\n",
              "\n",
              "      <script>\n",
              "        const buttonEl =\n",
              "          document.querySelector('#df-6e577b36-0563-4620-a651-0320fcce748a button.colab-df-convert');\n",
              "        buttonEl.style.display =\n",
              "          google.colab.kernel.accessAllowed ? 'block' : 'none';\n",
              "\n",
              "        async function convertToInteractive(key) {\n",
              "          const element = document.querySelector('#df-6e577b36-0563-4620-a651-0320fcce748a');\n",
              "          const dataTable =\n",
              "            await google.colab.kernel.invokeFunction('convertToInteractive',\n",
              "                                                     [key], {});\n",
              "          if (!dataTable) return;\n",
              "\n",
              "          const docLinkHtml = 'Like what you see? Visit the ' +\n",
              "            '<a target=\"_blank\" href=https://colab.research.google.com/notebooks/data_table.ipynb>data table notebook</a>'\n",
              "            + ' to learn more about interactive tables.';\n",
              "          element.innerHTML = '';\n",
              "          dataTable['output_type'] = 'display_data';\n",
              "          await google.colab.output.renderOutput(dataTable, element);\n",
              "          const docLink = document.createElement('div');\n",
              "          docLink.innerHTML = docLinkHtml;\n",
              "          element.appendChild(docLink);\n",
              "        }\n",
              "      </script>\n",
              "    </div>\n",
              "  </div>\n",
              "  "
            ]
          },
          "metadata": {},
          "execution_count": 13
        }
      ]
    },
    {
      "cell_type": "markdown",
      "source": [
        "# Visualize the Data"
      ],
      "metadata": {
        "id": "NCX6z6QEVH6p"
      }
    },
    {
      "cell_type": "markdown",
      "source": [
        "Visualize the data. There are 10,000 rows which condeses the data. "
      ],
      "metadata": {
        "id": "nZye-UA8QMeH"
      }
    },
    {
      "cell_type": "markdown",
      "source": [
        "Apple tends to be pretty consitent on their open and close prices."
      ],
      "metadata": {
        "id": "2WML2gtyY02M"
      }
    },
    {
      "cell_type": "code",
      "source": [
        "plt.plot(stockData['Volume'])\n",
        "plt.title('Volume')\n",
        "plt.show()\n",
        "\n",
        "plt.plot(stockData['High'])\n",
        "plt.title('High')\n",
        "plt.show()\n",
        "\n",
        "plt.plot(stockData['Low'])\n",
        "plt.title('Low')\n",
        "plt.show()\n",
        "\n",
        "plt.plot(stockData['Open'])\n",
        "plt.title('Open')\n",
        "plt.show()\n",
        "\n",
        "plt.plot(stockData['Close'])\n",
        "plt.title('Close')\n",
        "plt.show()"
      ],
      "metadata": {
        "colab": {
          "base_uri": "https://localhost:8080/",
          "height": 1000
        },
        "id": "zrSpxOlCBCY-",
        "outputId": "ac18f012-0675-40c5-9466-f742b78d2582"
      },
      "execution_count": null,
      "outputs": [
        {
          "output_type": "display_data",
          "data": {
            "text/plain": [
              "<Figure size 432x288 with 1 Axes>"
            ],
            "image/png": "[encoded data removed]"
          },
          "metadata": {
            "needs_background": "light"
          }
        },
        {
          "output_type": "display_data",
          "data": {
            "text/plain": [
              "<Figure size 432x288 with 1 Axes>"
            ],
            "image/png": "[encoded data removed]"
          },
          "metadata": {
            "needs_background": "light"
          }
        },
        {
          "output_type": "display_data",
          "data": {
            "text/plain": [
              "<Figure size 432x288 with 1 Axes>"
            ],
            "image/png": "[encoded data removed]"
          },
          "metadata": {
            "needs_background": "light"
          }
        },
        {
          "output_type": "display_data",
          "data": {
            "text/plain": [
              "<Figure size 432x288 with 1 Axes>"
            ],
            "image/png": "[encoded data removed]"
          },
          "metadata": {
            "needs_background": "light"
          }
        },
        {
          "output_type": "display_data",
          "data": {
            "text/plain": [
              "<Figure size 432x288 with 1 Axes>"
            ],
            "image/png": "[encoded data removed]"
          },
          "metadata": {
            "needs_background": "light"
          }
        }
      ]
    },
    {
      "cell_type": "markdown",
      "source": [
        "# Sort and Break Into Test and Train"
      ],
      "metadata": {
        "id": "3htC_FZiVMvx"
      }
    },
    {
      "cell_type": "markdown",
      "source": [
        "Sort the data in sequential order without shuffling."
      ],
      "metadata": {
        "id": "OyeDY46HPwGv"
      }
    },
    {
      "cell_type": "code",
      "source": [
        "times = sorted(stockData.index.values)"
      ],
      "metadata": {
        "id": "fv4M8Oz68N6u"
      },
      "execution_count": null,
      "outputs": []
    },
    {
      "cell_type": "markdown",
      "source": [
        "Split data into test and train."
      ],
      "metadata": {
        "id": "5980ZBwAP1CO"
      }
    },
    {
      "cell_type": "code",
      "source": [
        "df_TRAIN, df_TEST = train_test_split(stockData, train_size=0.8, test_size=0.2, shuffle=False)"
      ],
      "metadata": {
        "id": "4zqEUz9o8QdI"
      },
      "execution_count": null,
      "outputs": []
    },
    {
      "cell_type": "markdown",
      "source": [
        "Scale the data if there are any points that are not scaled between 0 and 1."
      ],
      "metadata": {
        "id": "n_VcluqnQB9S"
      }
    },
    {
      "cell_type": "code",
      "source": [
        "v = df_TRAIN.loc[:].values\n",
        "MINMAX_scaler = MinMaxScaler()\n",
        "df_TRAIN = MINMAX_scaler.fit_transform(v)\n",
        "df_TEST = MINMAX_scaler.transform(df_TEST.loc[:].values)"
      ],
      "metadata": {
        "id": "C-Tm04Wx8R43"
      },
      "execution_count": null,
      "outputs": []
    },
    {
      "cell_type": "markdown",
      "source": [
        "Add timestamp"
      ],
      "metadata": {
        "id": "-Dzjcx7JQHge"
      }
    },
    {
      "cell_type": "code",
      "source": [
        "def TimeSeries(arr):\n",
        "  limit = 10\n",
        "  SequentialData = []\n",
        "  previousDays = deque(maxlen=limit)\n",
        "  for i in arr:\n",
        "    previousDays.append([n for n in i[:-1]]) \n",
        "    if len(previousDays) == limit:\n",
        "      SequentialData.append([np.array(previousDays), i[-1]])\n",
        "  return SequentialData"
      ],
      "metadata": {
        "id": "PPMwpEvs8U82"
      },
      "execution_count": null,
      "outputs": []
    },
    {
      "cell_type": "code",
      "source": [
        "df_TRAIN = TimeSeries(df_TRAIN)\n",
        "df_TEST = TimeSeries(df_TEST)\n",
        "\n",
        "X_TRAIN = []\n",
        "y_TRAIN = []\n",
        "X_TEST = []\n",
        "y_TEST = []\n",
        "\n",
        "for feature, label in df_TRAIN:\n",
        "  X_TRAIN.append(feature)\n",
        "  y_TRAIN.append(label)\n",
        "  \n",
        "for feature, label in df_TEST:\n",
        "  X_TEST.append(feature)\n",
        "  y_TEST.append(label)\n",
        "\n",
        "X_TRAIN = np.array(X_TRAIN)\n",
        "X_TEST = np.array(X_TEST)\n",
        "y_TRAIN = np.array(y_TRAIN)\n",
        "y_TEST = np.array(y_TEST)"
      ],
      "metadata": {
        "id": "u_jSN_FK8XyW"
      },
      "execution_count": null,
      "outputs": []
    },
    {
      "cell_type": "markdown",
      "source": [
        "# Create the Model"
      ],
      "metadata": {
        "id": "2kFsxDAqVQfe"
      }
    },
    {
      "cell_type": "markdown",
      "source": [
        "Create the model with LSTM. "
      ],
      "metadata": {
        "id": "WFy-Y-r_QQHA"
      }
    },
    {
      "cell_type": "code",
      "source": [
        "model = Sequential()\n",
        "model.add(LSTM(128, input_shape=(X_TRAIN.shape[1:])))\n",
        "model.add(BatchNormalization())\n",
        "model.add(Dropout(0.3))\n",
        "model.add(Dense(32, activation='relu'))\n",
        "model.add(Dropout(0.1))\n",
        "model.add(Dense(16, activation='relu'))\n",
        "model.add(Dropout(0.1))\n",
        "model.add(Dense(1, activation='sigmoid'))\n",
        "\n",
        "adam = tf.keras.optimizers.Adam(lr=0.001, decay=1e-6)\n",
        "earlyStop = EarlyStopping(monitor='loss', patience=10)\n",
        "model.compile(loss='mean_squared_error',\n",
        "              optimizer=adam,\n",
        "              metrics=['mse', 'mae'])\n",
        "\n",
        "model.fit(X_TRAIN, y_TRAIN, epochs=10, batch_size=12, callbacks=[earlyStop])"
      ],
      "metadata": {
        "id": "Fy3ZVThc8gBp",
        "colab": {
          "base_uri": "https://localhost:8080/"
        },
        "outputId": "6ed0d840-c538-4e26-a29c-b1bc03fb4f45"
      },
      "execution_count": null,
      "outputs": [
        {
          "output_type": "stream",
          "name": "stdout",
          "text": [
            "Epoch 1/10\n"
          ]
        },
        {
          "output_type": "stream",
          "name": "stderr",
          "text": [
            "/usr/local/lib/python3.7/dist-packages/keras/optimizers/optimizer_v2/adam.py:110: UserWarning: The `lr` argument is deprecated, use `learning_rate` instead.\n",
            "  super(Adam, self).__init__(name, **kwargs)\n"
          ]
        },
        {
          "output_type": "stream",
          "name": "stdout",
          "text": [
            "694/694 [==============================] - 11s 12ms/step - loss: 0.0079 - mse: 0.0079 - mae: 0.0559\n",
            "Epoch 2/10\n",
            "694/694 [==============================] - 8s 12ms/step - loss: 0.0039 - mse: 0.0039 - mae: 0.0430\n",
            "Epoch 3/10\n",
            "694/694 [==============================] - 8s 12ms/step - loss: 0.0029 - mse: 0.0029 - mae: 0.0352\n",
            "Epoch 4/10\n",
            "694/694 [==============================] - 9s 12ms/step - loss: 0.0025 - mse: 0.0025 - mae: 0.0322\n",
            "Epoch 5/10\n",
            "694/694 [==============================] - 8s 12ms/step - loss: 0.0023 - mse: 0.0023 - mae: 0.0305\n",
            "Epoch 6/10\n",
            "694/694 [==============================] - 10s 15ms/step - loss: 0.0022 - mse: 0.0022 - mae: 0.0295\n",
            "Epoch 7/10\n",
            "694/694 [==============================] - 9s 12ms/step - loss: 0.0020 - mse: 0.0020 - mae: 0.0285\n",
            "Epoch 8/10\n",
            "694/694 [==============================] - 8s 12ms/step - loss: 0.0020 - mse: 0.0020 - mae: 0.0277\n",
            "Epoch 9/10\n",
            "694/694 [==============================] - 9s 12ms/step - loss: 0.0019 - mse: 0.0019 - mae: 0.0273\n",
            "Epoch 10/10\n",
            "694/694 [==============================] - 9s 12ms/step - loss: 0.0019 - mse: 0.0019 - mae: 0.0268\n"
          ]
        },
        {
          "output_type": "execute_result",
          "data": {
            "text/plain": [
              "<keras.callbacks.History at 0x7fa05ca852d0>"
            ]
          },
          "metadata": {},
          "execution_count": 26
        }
      ]
    },
    {
      "cell_type": "markdown",
      "source": [
        "# Visualize the Results"
      ],
      "metadata": {
        "id": "aDOTKM_7VUCU"
      }
    },
    {
      "cell_type": "markdown",
      "source": [
        "Plot points."
      ],
      "metadata": {
        "id": "Bll4BT_vQUYi"
      }
    },
    {
      "cell_type": "code",
      "source": [
        "model.evaluate(X_TEST, y_TEST)\n",
        "pred = model.predict(X_TEST)\n",
        "\n",
        "plt.plot(pred, 'r')\n",
        "plt.plot(y_TEST, 'b')\n",
        "plt.title('Prediction')\n",
        "plt.legend(['Predicted', 'Actual'])\n",
        "plt.show()"
      ],
      "metadata": {
        "id": "0CBei3Ed8ig3",
        "colab": {
          "base_uri": "https://localhost:8080/",
          "height": 316
        },
        "outputId": "03dcd359-1425-411d-e8e5-ee4e5cfc8069"
      },
      "execution_count": null,
      "outputs": [
        {
          "output_type": "stream",
          "name": "stdout",
          "text": [
            "65/65 [==============================] - 1s 7ms/step - loss: 1.8395e-04 - mse: 1.8395e-04 - mae: 0.0109\n",
            "65/65 [==============================] - 1s 7ms/step\n"
          ]
        },
        {
          "output_type": "display_data",
          "data": {
            "text/plain": [
              "<Figure size 432x288 with 1 Axes>"
            ],
            "image/png": "[encoded data removed]"
          },
          "metadata": {
            "needs_background": "light"
          }
        }
      ]
    },
    {
      "cell_type": "markdown",
      "source": [
        "# References"
      ],
      "metadata": {
        "id": "0soJuTd3kZQK"
      }
    },
    {
      "cell_type": "markdown",
      "source": [
        "https://site.financialmodelingprep.com/developer/docs/#Stock-Historical-Price"
      ],
      "metadata": {
        "id": "bN4GdK0tkbWe"
      }
    },
    {
      "cell_type": "markdown",
      "source": [
        "https://technical-analysis-library-in-python.readthedocs.io/en/latest/"
      ],
      "metadata": {
        "id": "VBiNu6vXkb5R"
      }
    },
    {
      "cell_type": "markdown",
      "source": [
        "https://www.udemy.com/course/technical-analysis-with-python-for-algorithmic-trading/"
      ],
      "metadata": {
        "id": "FtZC5pOTkf36"
      }
    },
    {
      "cell_type": "markdown",
      "source": [
        "https://www.youtube.com/watch?v=0E_31WqVzCY"
      ],
      "metadata": {
        "id": "vLqq2sZakkHA"
      }
    },
    {
      "cell_type": "markdown",
      "source": [
        "https://www.askpython.com/python/examples/stock-price-prediction-python"
      ],
      "metadata": {
        "id": "bH3AlB8SkvcM"
      }
    },
    {
      "cell_type": "code",
      "source": [
        "!pip install nbconvert"
      ],
      "metadata": {
        "colab": {
          "base_uri": "https://localhost:8080/"
        },
        "id": "7oXWwZoxo_eA",
        "outputId": "b43a555e-9a97-46ea-cb66-385309d07a78"
      },
      "execution_count": null,
      "outputs": [
        {
          "output_type": "stream",
          "name": "stdout",
          "text": [
            "Looking in indexes: https://pypi.org/simple, https://us-python.pkg.dev/colab-wheels/public/simple/\n",
            "Requirement already satisfied: nbconvert in /usr/local/lib/python3.7/dist-packages (5.6.1)\n",
            "Requirement already satisfied: nbformat>=4.4 in /usr/local/lib/python3.7/dist-packages (from nbconvert) (5.7.0)\n",
            "Requirement already satisfied: mistune<2,>=0.8.1 in /usr/local/lib/python3.7/dist-packages (from nbconvert) (0.8.4)\n",
            "Requirement already satisfied: traitlets>=4.2 in /usr/local/lib/python3.7/dist-packages (from nbconvert) (5.1.1)\n",
            "Requirement already satisfied: entrypoints>=0.2.2 in /usr/local/lib/python3.7/dist-packages (from nbconvert) (0.4)\n",
            "Requirement already satisfied: pandocfilters>=1.4.1 in /usr/local/lib/python3.7/dist-packages (from nbconvert) (1.5.0)\n",
            "Requirement already satisfied: jupyter-core in /usr/local/lib/python3.7/dist-packages (from nbconvert) (4.11.2)\n",
            "Requirement already satisfied: testpath in /usr/local/lib/python3.7/dist-packages (from nbconvert) (0.6.0)\n",
            "Requirement already satisfied: defusedxml in /usr/local/lib/python3.7/dist-packages (from nbconvert) (0.7.1)\n",
            "Requirement already satisfied: bleach in /usr/local/lib/python3.7/dist-packages (from nbconvert) (5.0.1)\n",
            "Requirement already satisfied: jinja2>=2.4 in /usr/local/lib/python3.7/dist-packages (from nbconvert) (2.11.3)\n",
            "Requirement already satisfied: pygments in /usr/local/lib/python3.7/dist-packages (from nbconvert) (2.6.1)\n",
            "Requirement already satisfied: MarkupSafe>=0.23 in /usr/local/lib/python3.7/dist-packages (from jinja2>=2.4->nbconvert) (2.0.1)\n",
            "Requirement already satisfied: importlib-metadata>=3.6 in /usr/local/lib/python3.7/dist-packages (from nbformat>=4.4->nbconvert) (4.13.0)\n",
            "Requirement already satisfied: fastjsonschema in /usr/local/lib/python3.7/dist-packages (from nbformat>=4.4->nbconvert) (2.16.2)\n",
            "Requirement already satisfied: jsonschema>=2.6 in /usr/local/lib/python3.7/dist-packages (from nbformat>=4.4->nbconvert) (4.3.3)\n",
            "Requirement already satisfied: zipp>=0.5 in /usr/local/lib/python3.7/dist-packages (from importlib-metadata>=3.6->nbformat>=4.4->nbconvert) (3.10.0)\n",
            "Requirement already satisfied: typing-extensions>=3.6.4 in /usr/local/lib/python3.7/dist-packages (from importlib-metadata>=3.6->nbformat>=4.4->nbconvert) (4.1.1)\n",
            "Requirement already satisfied: pyrsistent!=0.17.0,!=0.17.1,!=0.17.2,>=0.14.0 in /usr/local/lib/python3.7/dist-packages (from jsonschema>=2.6->nbformat>=4.4->nbconvert) (0.19.2)\n",
            "Requirement already satisfied: attrs>=17.4.0 in /usr/local/lib/python3.7/dist-packages (from jsonschema>=2.6->nbformat>=4.4->nbconvert) (22.1.0)\n",
            "Requirement already satisfied: importlib-resources>=1.4.0 in /usr/local/lib/python3.7/dist-packages (from jsonschema>=2.6->nbformat>=4.4->nbconvert) (5.10.0)\n",
            "Requirement already satisfied: webencodings in /usr/local/lib/python3.7/dist-packages (from bleach->nbconvert) (0.5.1)\n",
            "Requirement already satisfied: six>=1.9.0 in /usr/local/lib/python3.7/dist-packages (from bleach->nbconvert) (1.15.0)\n"
          ]
        }
      ]
    },
    {
      "cell_type": "code",
      "source": [
        "%%shell\n",
        "jupyter nbconvert --to html /content/Project_4200_AidenClarkipynb.ipynb"
      ],
      "metadata": {
        "colab": {
          "base_uri": "https://localhost:8080/"
        },
        "id": "1VXb-kYZpS8w",
        "outputId": "c454177b-1edc-4374-d10a-62ed0482a9dc"
      },
      "execution_count": null,
      "outputs": [
        {
          "output_type": "stream",
          "name": "stdout",
          "text": [
            "[NbConvertApp] Converting notebook /content/Project_4200_AidenClarkipynb.ipynb to html\n",
            "[NbConvertApp] Writing 587392 bytes to /content/Project_4200_AidenClarkipynb.html\n"
          ]
        },
        {
          "output_type": "execute_result",
          "data": {
            "text/plain": []
          },
          "metadata": {},
          "execution_count": 30
        }
      ]
    }
  ]
}
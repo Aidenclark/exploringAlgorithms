{
  "nbformat": 4,
  "nbformat_minor": 0,
  "metadata": {
    "colab": {
      "provenance": []
    },
    "kernelspec": {
      "name": "python3",
      "display_name": "Python 3"
    },
    "language_info": {
      "name": "python"
    }
  },
  "cells": [
    {
      "cell_type": "code",
      "metadata": {
        "colab": {
          "base_uri": "https://localhost:8080/"
        },
        "id": "zxAGakdtS8kN",
        "outputId": "25e3375c-6eb4-48ff-8ac5-8c59e5300dab"
      },
      "source": [
        "# Queue basics in Python:\n",
        "# Initializing a queue\n",
        "queue = []\n",
        " \n",
        "# Adding elements to the queue\n",
        "queue.append('a')\n",
        "queue.append('b')\n",
        "queue.append('c')\n",
        " \n",
        "print(\"Initial queue\")\n",
        "print(queue)\n",
        " \n",
        "# Removing elements from the queue\n",
        "print(\"\\nElements dequeued from queue\")\n",
        "print(queue.pop(0))\n",
        "print(queue.pop(0))\n",
        "print(queue.pop(0))\n",
        " \n",
        "print(\"\\nQueue after removing elements\")\n",
        "print(queue)"
      ],
      "execution_count": null,
      "outputs": [
        {
          "output_type": "stream",
          "name": "stdout",
          "text": [
            "Initial queue\n",
            "['a', 'b', 'c']\n",
            "\n",
            "Elements dequeued from queue\n",
            "a\n",
            "b\n",
            "c\n",
            "\n",
            "Queue after removing elements\n",
            "[]\n"
          ]
        }
      ]
    },
    {
      "cell_type": "code",
      "metadata": {
        "colab": {
          "base_uri": "https://localhost:8080/"
        },
        "id": "GnALsFS_VxAW",
        "outputId": "04a55872-9e43-4d90-ad27-0aec26cbbd19"
      },
      "source": [
        "# Use a queue and visit adjacent nodes based off \n",
        "# off of the starting nodes \n",
        "# Breadth-First Search manner to find the shortest path \n",
        "\n",
        " \n",
        "# Shortest path using BFS:\n",
        "def shortest_path_BFS(graph, start, goal):\n",
        "    explored = []\n",
        "     \n",
        "    # Start queue to navigate graph in BFS\n",
        "    queue = [[start]]\n",
        "     \n",
        "    # If the goal node is the start\n",
        "    if start == goal:\n",
        "        print(\"Same Node\")\n",
        "        return\n",
        "     \n",
        "    # Navigate graph\n",
        "    while queue:\n",
        "        path = queue.pop(0)\n",
        "        node = path[-1]\n",
        "         \n",
        "        if node not in explored:\n",
        "            neighbours = graph[node]\n",
        "             \n",
        "            # Iterate over neighbours of the node\n",
        "            for neighbour in neighbours:\n",
        "                new_path = list(path)\n",
        "                new_path.append(neighbour)\n",
        "                queue.append(new_path)\n",
        "                 \n",
        "                # Check if neighbour node is the goal\n",
        "                if neighbour == goal:\n",
        "                  # print the shortest path\n",
        "                    print(*new_path)\n",
        "                    return\n",
        "            explored.append(node)\n",
        " \n",
        "    # When nodes are not connected\n",
        "    print(\"So sorry, but a connecting\"\\\n",
        "                \"path doesn't exist :(\")\n",
        "    return\n",
        " \n",
        "if __name__ == \"__main__\":\n",
        "     \n",
        "    # Representing a graph using dictionary (values are lists of neighbors)\n",
        "    graph = {}\n",
        "    graph['Sibiu'] = ['Fagaras', 'Rimnicu Vilcea']\n",
        "    graph['Fagaras'] = ['Sibiu', 'Bucharest']\n",
        "    graph['Rimnicu Vilcea'] = ['Sibiu', 'Pitesti', 'Craiova']\n",
        "    graph['Pitesti'] = ['Rimnicu Vilcea', 'Craiova', 'Bucharest']\n",
        "    graph['Craiova'] = ['Rimnicu Vilcea', 'Pitesti']\n",
        "    graph['Bucharest'] = ['Fagaras', 'Pitesti', 'Giurgiu']\n",
        "    graph['Giurgiu'] = ['Bucharest']\n",
        "     \n",
        "    # Call shortest_path_BFS\n",
        "    shortest_path_BFS(graph, 'Sibiu', 'Bucharest')"
      ],
      "execution_count": null,
      "outputs": [
        {
          "output_type": "stream",
          "name": "stdout",
          "text": [
            "Sibiu Fagaras Bucharest\n"
          ]
        }
      ]
    }
  ]
}
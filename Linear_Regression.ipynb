{
  "nbformat": 4,
  "nbformat_minor": 0,
  "metadata": {
    "colab": {
      "provenance": []
    },
    "kernelspec": {
      "name": "python3",
      "display_name": "Python 3"
    },
    "language_info": {
      "name": "python"
    }
  },
  "cells": [
    {
      "cell_type": "markdown",
      "source": [
        "References: "
      ],
      "metadata": {
        "id": "dCeHHlfCo-0d"
      }
    },
    {
      "cell_type": "markdown",
      "source": [
        "https://www.youtube.com/watch?v=xrPZbHrxrWo\n",
        "https://github.com/kcpaul34/Linear_Regression_using_gradient_descent/blob/main/Gradient_Descent.ipynb"
      ],
      "metadata": {
        "id": "reCNIkezpGxt"
      }
    },
    {
      "cell_type": "markdown",
      "source": [
        "https://github.com/satishgunjal/Machine_Learning_Tutorials/blob/master/02_Linear_Regression/Multivariate_Linear_Regression_From_Scratch_With_Python.ipynb"
      ],
      "metadata": {
        "id": "kf7Bw9HspLue"
      }
    },
    {
      "cell_type": "code",
      "execution_count": null,
      "metadata": {
        "id": "2CsR-truZL--"
      },
      "outputs": [],
      "source": [
        "import matplotlib.pyplot as plt\n",
        "import numpy as np\n",
        "import pandas as pd"
      ]
    },
    {
      "cell_type": "markdown",
      "source": [
        "# **Least Squares Linear Regression**"
      ],
      "metadata": {
        "id": "kywS7SZqYJm3"
      }
    },
    {
      "cell_type": "markdown",
      "source": [
        "Training set:"
      ],
      "metadata": {
        "id": "aGqo2yE_YRzY"
      }
    },
    {
      "cell_type": "code",
      "source": [
        "X = np.array([1, 2, 3, 4, 5, 10, 11, 12, 13])\n",
        "Y = np.array([0, 0, 0, 1, 1, 1, 1, 1, 1])"
      ],
      "metadata": {
        "id": "M55yE_yaKwMC"
      },
      "execution_count": null,
      "outputs": []
    },
    {
      "cell_type": "markdown",
      "source": [
        "Visualize the dataset"
      ],
      "metadata": {
        "id": "EFpmJvXqLhaS"
      }
    },
    {
      "cell_type": "code",
      "source": [
        "fig, ax = plt.subplots()\n",
        "ax.scatter(X, Y)"
      ],
      "metadata": {
        "colab": {
          "base_uri": "https://localhost:8080/",
          "height": 283
        },
        "id": "_4C61l22Ljf4",
        "outputId": "d32add7a-8e40-422d-e703-83380f479d02"
      },
      "execution_count": null,
      "outputs": [
        {
          "output_type": "execute_result",
          "data": {
            "text/plain": [
              "<matplotlib.collections.PathCollection at 0x7f93dacd3450>"
            ]
          },
          "metadata": {},
          "execution_count": 3
        },
        {
          "output_type": "display_data",
          "data": {
            "text/plain": [
              "<Figure size 432x288 with 1 Axes>"
            ],
            "image/png": "[encoded data removed]"
          },
          "metadata": {
            "needs_background": "light"
          }
        }
      ]
    },
    {
      "cell_type": "markdown",
      "source": [
        "# 1.1 Estimate the slope"
      ],
      "metadata": {
        "id": "b1Nn8uVrYdCG"
      }
    },
    {
      "cell_type": "markdown",
      "source": [
        "Linear regression slope can be defined by $y = mx+b$. $m$ and $b$ can be calculated using the formula:  "
      ],
      "metadata": {
        "id": "MAimpJl-YggD"
      }
    },
    {
      "cell_type": "markdown",
      "source": [
        "$m$ = $(n\\displaystyle\\sum_  {i=1} ^{n} XY - \\displaystyle\\sum_  {i=1} ^{n} X\\displaystyle\\sum_  {i=1} ^{n} Y)/(n\\displaystyle\\sum_  {i=1} ^{n} X^2 - (\\displaystyle\\sum_  {i=1} ^{n} X)^2$"
      ],
      "metadata": {
        "id": "AM-OnC2kbMkt"
      }
    },
    {
      "cell_type": "markdown",
      "source": [
        "$b$ = $(\\displaystyle\\sum_  {i=1} ^{n} Y - m\\displaystyle\\sum_  {i=1} ^{n} X)/n$"
      ],
      "metadata": {
        "id": "O7EmOHYgbSQF"
      }
    },
    {
      "cell_type": "markdown",
      "source": [
        "# 1.1.2 Calculate the required sums"
      ],
      "metadata": {
        "id": "cL1JL6fscSbw"
      }
    },
    {
      "cell_type": "code",
      "source": [
        "df = pd.DataFrame({\n",
        "    'X': X,\n",
        "    'Y': Y,\n",
        "    'X**2': X**2,\n",
        "    'XY': X * Y\n",
        "    \n",
        "})\n",
        "n = len(X)\n",
        "print(f\"n : {n}\")\n",
        "df"
      ],
      "metadata": {
        "colab": {
          "base_uri": "https://localhost:8080/",
          "height": 350
        },
        "id": "YOVoFxJxTxOS",
        "outputId": "25760e06-2f9f-4f8d-e561-04648da1470c"
      },
      "execution_count": null,
      "outputs": [
        {
          "output_type": "stream",
          "name": "stdout",
          "text": [
            "n : 9\n"
          ]
        },
        {
          "output_type": "execute_result",
          "data": {
            "text/plain": [
              "    X  Y  X**2  XY\n",
              "0   1  0     1   0\n",
              "1   2  0     4   0\n",
              "2   3  0     9   0\n",
              "3   4  1    16   4\n",
              "4   5  1    25   5\n",
              "5  10  1   100  10\n",
              "6  11  1   121  11\n",
              "7  12  1   144  12\n",
              "8  13  1   169  13"
            ],
            "text/html": [
              "\n",
              "  <div id=\"df-80a48627-76ca-4ca0-8677-3c44d49abfa8\">\n",
              "    <div class=\"colab-df-container\">\n",
              "      <div>\n",
              "<style scoped>\n",
              "    .dataframe tbody tr th:only-of-type {\n",
              "        vertical-align: middle;\n",
              "    }\n",
              "\n",
              "    .dataframe tbody tr th {\n",
              "        vertical-align: top;\n",
              "    }\n",
              "\n",
              "    .dataframe thead th {\n",
              "        text-align: right;\n",
              "    }\n",
              "</style>\n",
              "<table border=\"1\" class=\"dataframe\">\n",
              "  <thead>\n",
              "    <tr style=\"text-align: right;\">\n",
              "      <th></th>\n",
              "      <th>X</th>\n",
              "      <th>Y</th>\n",
              "      <th>X**2</th>\n",
              "      <th>XY</th>\n",
              "    </tr>\n",
              "  </thead>\n",
              "  <tbody>\n",
              "    <tr>\n",
              "      <th>0</th>\n",
              "      <td>1</td>\n",
              "      <td>0</td>\n",
              "      <td>1</td>\n",
              "      <td>0</td>\n",
              "    </tr>\n",
              "    <tr>\n",
              "      <th>1</th>\n",
              "      <td>2</td>\n",
              "      <td>0</td>\n",
              "      <td>4</td>\n",
              "      <td>0</td>\n",
              "    </tr>\n",
              "    <tr>\n",
              "      <th>2</th>\n",
              "      <td>3</td>\n",
              "      <td>0</td>\n",
              "      <td>9</td>\n",
              "      <td>0</td>\n",
              "    </tr>\n",
              "    <tr>\n",
              "      <th>3</th>\n",
              "      <td>4</td>\n",
              "      <td>1</td>\n",
              "      <td>16</td>\n",
              "      <td>4</td>\n",
              "    </tr>\n",
              "    <tr>\n",
              "      <th>4</th>\n",
              "      <td>5</td>\n",
              "      <td>1</td>\n",
              "      <td>25</td>\n",
              "      <td>5</td>\n",
              "    </tr>\n",
              "    <tr>\n",
              "      <th>5</th>\n",
              "      <td>10</td>\n",
              "      <td>1</td>\n",
              "      <td>100</td>\n",
              "      <td>10</td>\n",
              "    </tr>\n",
              "    <tr>\n",
              "      <th>6</th>\n",
              "      <td>11</td>\n",
              "      <td>1</td>\n",
              "      <td>121</td>\n",
              "      <td>11</td>\n",
              "    </tr>\n",
              "    <tr>\n",
              "      <th>7</th>\n",
              "      <td>12</td>\n",
              "      <td>1</td>\n",
              "      <td>144</td>\n",
              "      <td>12</td>\n",
              "    </tr>\n",
              "    <tr>\n",
              "      <th>8</th>\n",
              "      <td>13</td>\n",
              "      <td>1</td>\n",
              "      <td>169</td>\n",
              "      <td>13</td>\n",
              "    </tr>\n",
              "  </tbody>\n",
              "</table>\n",
              "</div>\n",
              "      <button class=\"colab-df-convert\" onclick=\"convertToInteractive('df-80a48627-76ca-4ca0-8677-3c44d49abfa8')\"\n",
              "              title=\"Convert this dataframe to an interactive table.\"\n",
              "              style=\"display:none;\">\n",
              "        \n",
              "  <svg xmlns=\"http://www.w3.org/2000/svg\" height=\"24px\"viewBox=\"0 0 24 24\"\n",
              "       width=\"24px\">\n",
              "    <path d=\"M0 0h24v24H0V0z\" fill=\"none\"/>\n",
              "    <path d=\"M18.56 5.44l.94 2.06.94-2.06 2.06-.94-2.06-.94-.94-2.06-.94 2.06-2.06.94zm-11 1L8.5 8.5l.94-2.06 2.06-.94-2.06-.94L8.5 2.5l-.94 2.06-2.06.94zm10 10l.94 2.06.94-2.06 2.06-.94-2.06-.94-.94-2.06-.94 2.06-2.06.94z\"/><path d=\"M17.41 7.96l-1.37-1.37c-.4-.4-.92-.59-1.43-.59-.52 0-1.04.2-1.43.59L10.3 9.45l-7.72 7.72c-.78.78-.78 2.05 0 2.83L4 21.41c.39.39.9.59 1.41.59.51 0 1.02-.2 1.41-.59l7.78-7.78 2.81-2.81c.8-.78.8-2.07 0-2.86zM5.41 20L4 18.59l7.72-7.72 1.47 1.35L5.41 20z\"/>\n",
              "  </svg>\n",
              "      </button>\n",
              "      \n",
              "  <style>\n",
              "    .colab-df-container {\n",
              "      display:flex;\n",
              "      flex-wrap:wrap;\n",
              "      gap: 12px;\n",
              "    }\n",
              "\n",
              "    .colab-df-convert {\n",
              "      background-color: #E8F0FE;\n",
              "      border: none;\n",
              "      border-radius: 50%;\n",
              "      cursor: pointer;\n",
              "      display: none;\n",
              "      fill: #1967D2;\n",
              "      height: 32px;\n",
              "      padding: 0 0 0 0;\n",
              "      width: 32px;\n",
              "    }\n",
              "\n",
              "    .colab-df-convert:hover {\n",
              "      background-color: #E2EBFA;\n",
              "      box-shadow: 0px 1px 2px rgba(60, 64, 67, 0.3), 0px 1px 3px 1px rgba(60, 64, 67, 0.15);\n",
              "      fill: #174EA6;\n",
              "    }\n",
              "\n",
              "    [theme=dark] .colab-df-convert {\n",
              "      background-color: #3B4455;\n",
              "      fill: #D2E3FC;\n",
              "    }\n",
              "\n",
              "    [theme=dark] .colab-df-convert:hover {\n",
              "      background-color: #434B5C;\n",
              "      box-shadow: 0px 1px 3px 1px rgba(0, 0, 0, 0.15);\n",
              "      filter: drop-shadow(0px 1px 2px rgba(0, 0, 0, 0.3));\n",
              "      fill: #FFFFFF;\n",
              "    }\n",
              "  </style>\n",
              "\n",
              "      <script>\n",
              "        const buttonEl =\n",
              "          document.querySelector('#df-80a48627-76ca-4ca0-8677-3c44d49abfa8 button.colab-df-convert');\n",
              "        buttonEl.style.display =\n",
              "          google.colab.kernel.accessAllowed ? 'block' : 'none';\n",
              "\n",
              "        async function convertToInteractive(key) {\n",
              "          const element = document.querySelector('#df-80a48627-76ca-4ca0-8677-3c44d49abfa8');\n",
              "          const dataTable =\n",
              "            await google.colab.kernel.invokeFunction('convertToInteractive',\n",
              "                                                     [key], {});\n",
              "          if (!dataTable) return;\n",
              "\n",
              "          const docLinkHtml = 'Like what you see? Visit the ' +\n",
              "            '<a target=\"_blank\" href=https://colab.research.google.com/notebooks/data_table.ipynb>data table notebook</a>'\n",
              "            + ' to learn more about interactive tables.';\n",
              "          element.innerHTML = '';\n",
              "          dataTable['output_type'] = 'display_data';\n",
              "          await google.colab.output.renderOutput(dataTable, element);\n",
              "          const docLink = document.createElement('div');\n",
              "          docLink.innerHTML = docLinkHtml;\n",
              "          element.appendChild(docLink);\n",
              "        }\n",
              "      </script>\n",
              "    </div>\n",
              "  </div>\n",
              "  "
            ]
          },
          "metadata": {},
          "execution_count": 4
        }
      ]
    },
    {
      "cell_type": "code",
      "source": [
        "(X_sum, Y_sum, XY_sum, X_square_sum) = df.sum(axis=0)\n",
        "print(f\"X_sum : {X_sum}\")\n",
        "print(f\"Y_sum : {Y_sum:.2f}\")\n",
        "print(f\"XY_sum : {XY_sum}\")\n",
        "print(f\"X_square_sum : {X_square_sum}\")"
      ],
      "metadata": {
        "colab": {
          "base_uri": "https://localhost:8080/"
        },
        "id": "0xkX_K1ST75Z",
        "outputId": "99f1dcff-3d65-4022-c8f6-5bba0730b22f"
      },
      "execution_count": null,
      "outputs": [
        {
          "output_type": "stream",
          "name": "stdout",
          "text": [
            "X_sum : 61\n",
            "Y_sum : 6.00\n",
            "XY_sum : 589\n",
            "X_square_sum : 55\n"
          ]
        }
      ]
    },
    {
      "cell_type": "markdown",
      "source": [
        "# 1.1.3 Substitute in values "
      ],
      "metadata": {
        "id": "1hTcy3kwcs_h"
      }
    },
    {
      "cell_type": "code",
      "source": [
        "rise_1 = n * XY_sum - X_sum * Y_sum\n",
        "print(f\"{rise_1:.2f}\")"
      ],
      "metadata": {
        "colab": {
          "base_uri": "https://localhost:8080/"
        },
        "id": "a3jIPO1LT-wz",
        "outputId": "065a4a77-09d1-4621-c2f1-43b0b4eda10e"
      },
      "execution_count": null,
      "outputs": [
        {
          "output_type": "stream",
          "name": "stdout",
          "text": [
            "4935.00\n"
          ]
        }
      ]
    },
    {
      "cell_type": "code",
      "source": [
        "run_1 = n * X_square_sum - (X_sum)**2\n",
        "print(f\"{run_1:.2f}\")"
      ],
      "metadata": {
        "colab": {
          "base_uri": "https://localhost:8080/"
        },
        "id": "bgqObPgQUAlR",
        "outputId": "22ac8b47-db63-49e7-87e3-a3e63a6519d0"
      },
      "execution_count": null,
      "outputs": [
        {
          "output_type": "stream",
          "name": "stdout",
          "text": [
            "-3226.00\n"
          ]
        }
      ]
    },
    {
      "cell_type": "markdown",
      "source": [
        "# 1.1.4 Calculate slope"
      ],
      "metadata": {
        "id": "vbRNsYqBc7ni"
      }
    },
    {
      "cell_type": "code",
      "source": [
        "m_1 = rise_1/run_1\n",
        "print(f\"(method 1) m = {m_1:.12f}\")"
      ],
      "metadata": {
        "colab": {
          "base_uri": "https://localhost:8080/"
        },
        "id": "oM2AzX1_UBsj",
        "outputId": "ffebd033-7ce0-4b5e-fac6-8b00e75f1bd9"
      },
      "execution_count": null,
      "outputs": [
        {
          "output_type": "stream",
          "name": "stdout",
          "text": [
            "(method 1) m = -1.529758214507\n"
          ]
        }
      ]
    },
    {
      "cell_type": "markdown",
      "source": [
        "# 1.2 Calculate y-intercept"
      ],
      "metadata": {
        "id": "JIz96zC0dDEN"
      }
    },
    {
      "cell_type": "code",
      "source": [
        "b_1 = (Y_sum - m_1 * X_sum)/n\n",
        "print(f\"(method 1) b = {b_1:.12f}\")"
      ],
      "metadata": {
        "colab": {
          "base_uri": "https://localhost:8080/"
        },
        "id": "kjyJWDvuUKoh",
        "outputId": "51d8226d-befe-4069-827a-6434bd34dc42"
      },
      "execution_count": null,
      "outputs": [
        {
          "output_type": "stream",
          "name": "stdout",
          "text": [
            "(method 1) b = 11.035027898326\n"
          ]
        }
      ]
    },
    {
      "cell_type": "markdown",
      "source": [
        "# 1.3 Resulting equation"
      ],
      "metadata": {
        "id": "znKgFSocdWDm"
      }
    },
    {
      "cell_type": "markdown",
      "source": [
        "\n",
        "\n",
        "\n",
        "$\\hat{Y}= 0.081645569620+0.113291139241$"
      ],
      "metadata": {
        "id": "1ECHvqQudg5S"
      }
    },
    {
      "cell_type": "code",
      "source": [
        "Y_approximation = m_1*X + b_1"
      ],
      "metadata": {
        "id": "zRLVLPR2UYEh"
      },
      "execution_count": null,
      "outputs": []
    },
    {
      "cell_type": "markdown",
      "source": [
        "# 1.4 Visualize Results"
      ],
      "metadata": {
        "id": "IeIdEPAHdyI8"
      }
    },
    {
      "cell_type": "code",
      "source": [
        "fig = plt.gcf()\n",
        "fig.set_size_inches(18.5, 10.5)\n",
        "plt.scatter(X, Y, color='b', label='Actual')\n",
        "plt.plot(X, Y_approximation, color='r', label='Approximation')\n",
        "plt.legend(fontsize=20)"
      ],
      "metadata": {
        "colab": {
          "base_uri": "https://localhost:8080/",
          "height": 637
        },
        "id": "kGPxVMHxUU6s",
        "outputId": "b0ea6301-3ed3-4c12-bdb8-7a3246e6dd37"
      },
      "execution_count": null,
      "outputs": [
        {
          "output_type": "execute_result",
          "data": {
            "text/plain": [
              "<matplotlib.legend.Legend at 0x7f43ffe2a5d0>"
            ]
          },
          "metadata": {},
          "execution_count": 36
        },
        {
          "output_type": "display_data",
          "data": {
            "text/plain": [
              "<Figure size 1332x756 with 1 Axes>"
            ],
            "image/png": "[encoded data removed]"
          },
          "metadata": {
            "needs_background": "light"
          }
        }
      ]
    },
    {
      "cell_type": "code",
      "source": [
        "def get_squared_error(Y, Yhat):\n",
        "    return np.sum((Y - Yhat)**2)\n",
        "\n",
        "squared_error = get_squared_error(Y, Y_approximation)"
      ],
      "metadata": {
        "id": "x21_0HLmUcVc"
      },
      "execution_count": null,
      "outputs": []
    },
    {
      "cell_type": "code",
      "source": [
        "squared_error"
      ],
      "metadata": {
        "colab": {
          "base_uri": "https://localhost:8080/"
        },
        "id": "A7UiSAl_Ud6J",
        "outputId": "10a40459-d1cc-45f6-dc34-5e2ca46d13e0"
      },
      "execution_count": null,
      "outputs": [
        {
          "output_type": "execute_result",
          "data": {
            "text/plain": [
              "456.68119191211827"
            ]
          },
          "metadata": {},
          "execution_count": 38
        }
      ]
    },
    {
      "cell_type": "markdown",
      "source": [
        "# 1.5 "
      ],
      "metadata": {
        "id": "AB5w8kl3fsYo"
      }
    },
    {
      "cell_type": "markdown",
      "source": [
        "Because the dependent varible is binary it can be used as a classifier, but it will not be unique. "
      ],
      "metadata": {
        "id": "Oy0q981tfx9n"
      }
    }
  ]
}